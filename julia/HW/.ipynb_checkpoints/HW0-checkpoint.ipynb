{
 "cells": [
  {
   "cell_type": "markdown",
   "metadata": {},
   "source": [
    "# HW0 \n",
    "## Jonathan Casas\n",
    "### SUID: 821280044"
   ]
  },
  {
   "cell_type": "markdown",
   "metadata": {},
   "source": [
    "A single neuron will be implemented to perform function approximation of the following expression:\n",
    "    $$f(x)=-8x+3,$$\n",
    "implemented as\n",
    "    "
   ]
  },
  {
   "cell_type": "code",
   "execution_count": 115,
   "metadata": {},
   "outputs": [
    {
     "data": {
      "text/plain": [
       "actual (generic function with 1 method)"
      ]
     },
     "execution_count": 115,
     "metadata": {},
     "output_type": "execute_result"
    }
   ],
   "source": [
    "actual(x) = -8x + 3"
   ]
  },
  {
   "cell_type": "markdown",
   "metadata": {},
   "source": [
    "To train and test the NN, the following data is generated\n"
   ]
  },
  {
   "cell_type": "code",
   "execution_count": 116,
   "metadata": {},
   "outputs": [
    {
     "data": {
      "text/plain": [
       "([3.0 2.9999992 … -36.9999992 -37.0], [-47997; -48005; … ; -51989; -51997])"
      ]
     },
     "execution_count": 116,
     "metadata": {},
     "output_type": "execute_result"
    }
   ],
   "source": [
    "x_train1, x_test1 = hcat(0:1:5...), hcat(6000:6500)\n",
    "x_train2, x_test2 = hcat(0:0.1:5...), hcat(6000:6500)\n",
    "x_train3, x_test3 = hcat(0:0.001:5...), hcat(6000:6500)\n",
    "x_train4, x_test4 = hcat(0:0.0000001:5...), hcat(6000:6500)\n",
    "\n",
    "y_train1, y_test1 = actual.(x_train1), actual.(x_test1)\n",
    "y_train2, y_test2 = actual.(x_train2), actual.(x_test2)\n",
    "y_train3, y_test3 = actual.(x_train3), actual.(x_test3)\n",
    "y_train4, y_test4 = actual.(x_train4), actual.(x_test4)"
   ]
  },
  {
   "cell_type": "markdown",
   "metadata": {},
   "source": [
    "## Prediction Model\n",
    "The model is designed to be a single neuron with single input and single output. In order to implement the model, the library FLux is used"
   ]
  },
  {
   "cell_type": "code",
   "execution_count": 117,
   "metadata": {},
   "outputs": [
    {
     "data": {
      "text/plain": [
       "Dense(1, 1)"
      ]
     },
     "execution_count": 117,
     "metadata": {},
     "output_type": "execute_result"
    }
   ],
   "source": [
    "using Flux\n",
    "predict = Dense(1,1)"
   ]
  },
  {
   "cell_type": "markdown",
   "metadata": {},
   "source": [
    "## Iterative Learning with different dataset size\n",
    "In order to compare the learning time, three data sets will be defined\n"
   ]
  },
  {
   "cell_type": "code",
   "execution_count": 118,
   "metadata": {},
   "outputs": [
    {
     "data": {
      "text/plain": [
       "1-element Array{Tuple{Array{Float64,2},Array{Float64,2}},1}:\n",
       " ([0.0 0.001 … 4.999 5.0], [3.0 2.992 … -36.992 -37.0])"
      ]
     },
     "execution_count": 118,
     "metadata": {},
     "output_type": "execute_result"
    }
   ],
   "source": [
    "data1 = [(x_train1, y_train1)]\n",
    "data2 = [(x_train2, y_train2)]\n",
    "data3 = [(x_train3, y_train3)]\n"
   ]
  },
  {
   "cell_type": "markdown",
   "metadata": {},
   "source": [
    "Additionally, the predict model will be cloned to have similar initial conditions"
   ]
  },
  {
   "cell_type": "code",
   "execution_count": 119,
   "metadata": {},
   "outputs": [
    {
     "data": {
      "text/plain": [
       "Dense(1, 1)"
      ]
     },
     "execution_count": 119,
     "metadata": {},
     "output_type": "execute_result"
    }
   ],
   "source": [
    "predict1 = deepcopy(predict)\n",
    "predict2 = deepcopy(predict)\n",
    "predict3 = deepcopy(predict)"
   ]
  },
  {
   "cell_type": "markdown",
   "metadata": {},
   "source": [
    "## Loss Function and Optimization algorithm\n",
    "\n",
    "The loss function used will be the standard Mean-Square Erros (mse) and the optimization algorithm is the gradient descendent."
   ]
  },
  {
   "cell_type": "code",
   "execution_count": 120,
   "metadata": {},
   "outputs": [
    {
     "data": {
      "text/plain": [
       "Descent(0.1)"
      ]
     },
     "execution_count": 120,
     "metadata": {},
     "output_type": "execute_result"
    }
   ],
   "source": [
    "#loss function\n",
    "loss1(x,y) = Flux.Losses.mse(predict1(x), y)\n",
    "loss2(x,y) = Flux.Losses.mse(predict2(x), y)\n",
    "loss3(x,y) = Flux.Losses.mse(predict3(x), y)\n",
    "#optimization algorithm\n",
    "opt = Descent(0.1)"
   ]
  },
  {
   "cell_type": "code",
   "execution_count": 121,
   "metadata": {},
   "outputs": [
    {
     "data": {
      "text/plain": [
       "Params([Float32[-0.89934945], Float32[0.0]])"
      ]
     },
     "execution_count": 121,
     "metadata": {},
     "output_type": "execute_result"
    }
   ],
   "source": [
    "parameter1 = Flux.params(predict1)\n",
    "parameter2 = Flux.params(predict2)\n",
    "parameter3 = Flux.params(predict3)\n",
    "\n"
   ]
  },
  {
   "cell_type": "markdown",
   "metadata": {},
   "source": [
    "## Iterative Learning loop"
   ]
  },
  {
   "cell_type": "code",
   "execution_count": 122,
   "metadata": {},
   "outputs": [
    {
     "data": {
      "text/plain": [
       "iterative_learning3 (generic function with 2 methods)"
      ]
     },
     "execution_count": 122,
     "metadata": {},
     "output_type": "execute_result"
    }
   ],
   "source": [
    "using Flux.Optimise: train!\n",
    "function iterative_learning1(epsilon = 1)\n",
    "    #while loss(x,y) > epsilon\n",
    "    while loss1(x_train1,y_train1) > epsilon\n",
    "        train!(loss1, parameter1, data1, opt)\n",
    "        #println(loss(hcat(x_train[1:10]...),hcat(y_train[1:10]...)))\n",
    "\n",
    "    end\n",
    "    \n",
    "end\n",
    "    \n",
    "function iterative_learning2(epsilon = 1)\n",
    "    #while loss(x,y) > epsilon\n",
    "     while loss2(x_train2,y_train2) > epsilon\n",
    "        train!(loss2, parameter2, data2, opt)\n",
    "        #println(loss(hcat(x_train[1:10]...),hcat(y_train[1:10]...)))\n",
    "\n",
    "    end\n",
    "    \n",
    "end\n",
    "    \n",
    "function iterative_learning3(epsilon = 1)\n",
    "    #while loss(x,y) > epsilon\n",
    "     while loss3(x_train3,y_train3) > epsilon\n",
    "        train!(loss3, parameter3, data3, opt)\n",
    "        #println(loss(hcat(x_train[1:10]...),hcat(y_train[1:10]...)))\n",
    "\n",
    "    end\n",
    "    \n",
    "end\n",
    "    "
   ]
  },
  {
   "cell_type": "code",
   "execution_count": 123,
   "metadata": {},
   "outputs": [
    {
     "name": "stdout",
     "output_type": "stream",
     "text": [
      "364.66663\n",
      "  0.071128 seconds (134.39 k allocations: 6.563 MiB)\n",
      "0.98191214\n"
     ]
    }
   ],
   "source": [
    "using BenchmarkTools\n",
    "println(loss1(x_train1,y_train1))\n",
    "@time iterative_learning1()\n",
    "println(loss1(x_train1,y_train1))\n",
    "\n",
    "\n"
   ]
  },
  {
   "cell_type": "code",
   "execution_count": 124,
   "metadata": {},
   "outputs": [
    {
     "name": "stdout",
     "output_type": "stream",
     "text": [
      "326.85216485737516\n",
      "  0.057053 seconds (111.87 k allocations: 5.530 MiB)\n",
      "0.9317928283953703\n"
     ]
    }
   ],
   "source": [
    "println(loss2(x_train2,y_train2))\n",
    "@time iterative_learning2()\n",
    "println(loss2(x_train2,y_train2))\n"
   ]
  },
  {
   "cell_type": "code",
   "execution_count": 125,
   "metadata": {},
   "outputs": [
    {
     "name": "stdout",
     "output_type": "stream",
     "text": [
      "322.69257627120794\n",
      "  0.088879 seconds (606.79 k allocations: 23.372 MiB)\n",
      "0.9830640093110259\n"
     ]
    }
   ],
   "source": [
    "println(loss3(x_train3,y_train3))\n",
    "@time iterative_learning3()\n",
    "println(loss3(x_train3,y_train3))\n"
   ]
  },
  {
   "cell_type": "code",
   "execution_count": null,
   "metadata": {},
   "outputs": [],
   "source": []
  },
  {
   "cell_type": "code",
   "execution_count": null,
   "metadata": {},
   "outputs": [],
   "source": []
  }
 ],
 "metadata": {
  "kernelspec": {
   "display_name": "Julia 1.4.1",
   "language": "julia",
   "name": "julia-1.4"
  },
  "language_info": {
   "file_extension": ".jl",
   "mimetype": "application/julia",
   "name": "julia",
   "version": "1.4.1"
  }
 },
 "nbformat": 4,
 "nbformat_minor": 4
}
