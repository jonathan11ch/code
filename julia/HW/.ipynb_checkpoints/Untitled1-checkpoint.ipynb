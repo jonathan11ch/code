{
 "cells": [
  {
   "cell_type": "code",
   "execution_count": 110,
   "metadata": {},
   "outputs": [
    {
     "data": {
      "text/plain": [
       "3805-element Array{Float64,1}:\n",
       " 1.0\n",
       " 0.0\n",
       " 0.0\n",
       " 1.0\n",
       " 0.0\n",
       " 0.0\n",
       " 1.0\n",
       " 0.0\n",
       " 1.0\n",
       " 1.0\n",
       " 1.0\n",
       " 0.0\n",
       " 1.0\n",
       " ⋮\n",
       " 1.0\n",
       " 1.0\n",
       " 1.0\n",
       " 0.0\n",
       " 0.0\n",
       " 1.0\n",
       " 1.0\n",
       " 1.0\n",
       " 1.0\n",
       " 0.0\n",
       " 0.0\n",
       " 1.0"
      ]
     },
     "execution_count": 110,
     "metadata": {},
     "output_type": "execute_result"
    }
   ],
   "source": [
    "using CSV, DataFrames, DelimitedFiles, Random\n",
    "#Data extraction\n",
    "path = \"/home/jonathan/github/code/julia/HW1/magic04.csv\"\n",
    "#load data frame\n",
    "df = CSV.read(path, DataFrame, delim = \";\")\n",
    "#convert in matrix format\n",
    "data= Matrix(df)\n",
    "#randomize data\n",
    "data = data[shuffle(1:end), :]\n",
    "#split train and test data sets\n",
    "test_ratio = 0.8\n",
    "x_range =  Int(floor(size(data,1)*test_ratio))\n",
    "data_train_x = data[1:x_range, 1:10]\n",
    "data_train_y = data[1:x_range, end]\n",
    "data_test_x  = data[x_range:end, 1:10]\n",
    "data_test_y  = data[x_range:end, end]\n",
    "\n"
   ]
  },
  {
   "cell_type": "code",
   "execution_count": 149,
   "metadata": {},
   "outputs": [
    {
     "data": {
      "text/plain": [
       "train! (generic function with 1 method)"
      ]
     },
     "execution_count": 149,
     "metadata": {},
     "output_type": "execute_result"
    }
   ],
   "source": [
    "using Flux\n",
    "using BenchmarkTools\n",
    "inputs = 10\n",
    "hidden = 10\n",
    "outputs = 1\n",
    "#activation function \n",
    "\n",
    "#derivative of activation function\n",
    "∂σ(x) = σ(x)(1-σ(x)) \n",
    "\n",
    "#Loss function\n",
    "E(y, out) = 0.5(y.- out).^2 \n",
    "#partial w.r.t output\n",
    "∂E(y,out) = -(y.- out)\n",
    "#model\n",
    "\n",
    "\n",
    "\n",
    "#layers of the moder\n",
    "h = Dense(inputs, hidden, σ)\n",
    "o = Dense(hidden, outputs)\n",
    "\n",
    "#NN struct\n",
    "train_x = \n",
    "train_y = \n",
    "    \n",
    "#training\n",
    "function train!(model)\n",
    "    epochs = 0 #number of iterations\n",
    "    ϵ = 1.0    #training error condition\n",
    "    while error > ϵ\n",
    "        y = data_test_y[1]\n",
    "        x = data_test_x[1,:]\n",
    "        #forward pass\n",
    "        h_i = h(x)\n",
    "        o_i = o(h_i)\n",
    "        error  = E(y,o_i) \n",
    "        #backward pass\n",
    "        \n",
    "    end\n",
    "    \n",
    "    \n",
    "\n",
    "end\n",
    "\n"
   ]
  },
  {
   "cell_type": "code",
   "execution_count": 113,
   "metadata": {},
   "outputs": [
    {
     "data": {
      "text/plain": [
       "11-element Array{Float64,1}:\n",
       "  23.4842\n",
       "  20.0774\n",
       "   2.5944\n",
       "   0.3588\n",
       "   0.1896\n",
       "   0.2998\n",
       " -20.2718\n",
       " -14.5615\n",
       "   6.0191\n",
       " 168.175\n",
       "   1.0"
      ]
     },
     "execution_count": 113,
     "metadata": {},
     "output_type": "execute_result"
    }
   ],
   "source": [
    "#@show model.layers[1] #hidden layer\n",
    "#@show model.layers[2] #output layer\n",
    "data[1,:]"
   ]
  },
  {
   "cell_type": "code",
   "execution_count": 256,
   "metadata": {},
   "outputs": [
    {
     "name": "stdout",
     "output_type": "stream",
     "text": [
      "y_i = data_test_y[10] = 1.0\n",
      "x_i = data_test_x[10, :] = [58.4743, 20.9718, 3.0598, 0.2126, 0.1076, -76.9438, -36.8528, 14.5579, 4.336, 250.777]\n",
      "h_i = h(x_i) = Float32[0.0, 1.0, 1.0, 0.9182053, 1.0, 1.0, 0.0, 1.0, 1.0, 4.30022f-18]\n",
      "o_i = o(h_i) = Float32[-31.473572]\n",
      "error = E(y_i, o_i) = [527.2664319891483]\n",
      "∂E_i = ∂E(y_i, o_i) = [-32.47357177734375]\n",
      "o.W = Float32[-0.20339562 0.38858926 -0.19293201 -33.536312 -0.18224795 -0.6997663 -0.5820527 0.5024697 -0.49646455 0.20590445]\n",
      "o.W[4] = o.W[4] + η * ∂E_i[1] * h_i[4] = -36.51805274251929\n",
      "o.W = Float32[-0.20339562 0.38858926 -0.19293201 -36.51805 -0.18224795 -0.6997663 -0.5820527 0.5024697 -0.49646455 0.20590445]\n"
     ]
    },
    {
     "data": {
      "text/plain": [
       "1×10 Array{Float32,2}:\n",
       " -0.203396  0.388589  -0.192932  -36.5181  …  0.50247  -0.496465  0.205904"
      ]
     },
     "execution_count": 256,
     "metadata": {},
     "output_type": "execute_result"
    }
   ],
   "source": [
    "using BenchmarkTools\n",
    "∂E(y,out) = -(y.- out)\n",
    "\n",
    "@show y_i = data_test_y[10]\n",
    "@show x_i = data_test_x[10,:]\n",
    "#learning rate\n",
    "η = 0.1\n",
    "#forward pass\n",
    "@show h_i = h(x_i)\n",
    "@show o_i = o(h_i)\n",
    "@show error  = E(y_i,o_i)\n",
    "#partial of error\n",
    "@show ∂E_i = ∂E(y_i,o_i)\n",
    "@show o.W\n",
    "#backward pass\n",
    "@show o.W[4] = o.W[4] + η*∂E_i[1]*h_i[4]\n",
    "@show o.W"
   ]
  },
  {
   "cell_type": "code",
   "execution_count": 196,
   "metadata": {},
   "outputs": [
    {
     "data": {
      "text/plain": [
       "10-element Array{Float32,1}:\n",
       " 0.0\n",
       " 1.0\n",
       " 1.0\n",
       " 0.9182053\n",
       " 1.0\n",
       " 1.0\n",
       " 0.0\n",
       " 1.0\n",
       " 1.0\n",
       " 4.30022f-18"
      ]
     },
     "execution_count": 196,
     "metadata": {},
     "output_type": "execute_result"
    }
   ],
   "source": [
    "h(x_i)"
   ]
  },
  {
   "cell_type": "code",
   "execution_count": 217,
   "metadata": {},
   "outputs": [
    {
     "data": {
      "text/plain": [
       "0.0f0"
      ]
     },
     "execution_count": 217,
     "metadata": {},
     "output_type": "execute_result"
    }
   ],
   "source": [
    "h_i[1]"
   ]
  },
  {
   "cell_type": "code",
   "execution_count": 194,
   "metadata": {},
   "outputs": [
    {
     "data": {
      "text/plain": [
       "-1.4986387491226196"
      ]
     },
     "execution_count": 194,
     "metadata": {},
     "output_type": "execute_result"
    }
   ],
   "source": [
    "∂E_i[1]"
   ]
  }
 ],
 "metadata": {
  "kernelspec": {
   "display_name": "Julia 1.4.1",
   "language": "julia",
   "name": "julia-1.4"
  },
  "language_info": {
   "file_extension": ".jl",
   "mimetype": "application/julia",
   "name": "julia",
   "version": "1.4.1"
  }
 },
 "nbformat": 4,
 "nbformat_minor": 4
}
