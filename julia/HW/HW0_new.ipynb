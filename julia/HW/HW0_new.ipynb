{
 "cells": [
  {
   "cell_type": "code",
   "execution_count": 3,
   "metadata": {},
   "outputs": [],
   "source": [
    "    #import Pkg\n",
    "    #packages = [\\\"CSV\\\",\\\"DataFrames\\\",\\\"PlutoUI\\\",\\\"Plots\\\",\\\"Combinatorics\\\"]   \\n\",\n",
    "    #Pkg.add(packages)\\n\",\n",
    "   \n",
    "    using CSV, DataFrames, PlutoUI, Plots, Combinatorics\n",
    "    begin\n",
    "        path = \"/home/jonathan/Datasets/iris.data\"\n",
    "        csv_data = CSV.File(path, header=false)\n",
    "        y  =  vcat(-(ones(50)),ones(50),-(ones(50)))\n",
    "        iris_names = [\"sepal_len\", \"sepal_wid\", \"petal_len\", \"petal_wid\", \"output\",\"class\"]\n",
    "        df = DataFrame([csv_data.Column1,csv_data.Column2,csv_data.Column3,csv_data.Column4,y,csv_data.Column5], Symbol.(iris_names))\n",
    "        dropmissing!(df)\n",
    "    end\n",
    "    \n",
    "    \n",
    "    using Flux\n",
    "    using Flux: Data.DataLoader\n",
    "\n",
    "    using Random\n",
    "        using IterTools: ncycle\n",
    "\n",
    "        Random.seed!(123);\n",
    "\n",
    "    begin   \n",
    "        # Convert df to array\n",
    "        data = Matrix(df)\n",
    "\n",
    "        # Shuffle\n",
    "        data = data[shuffle(1:end), :]\n",
    "\n",
    "        # train/test split\n",
    "        train_test_ratio = .7\n",
    "        idx = Int(floor(size(df, 1) * train_test_ratio))\n",
    "        data_train = data[1:idx,:]\n",
    "        data_test = data[idx+1:end, :]\n",
    "\n",
    "        tuple_train = []\n",
    "        tuple_test = []\n",
    "\n",
    "        #tuple_convert(d::Array) = (d[:,1:4], d[:,5])\n",
    "        for d = 1: size(data_train)[1]\n",
    "            append!(tuple_train, [(data_train[d,1:4],data_train[d,5])])\n",
    "        end\n",
    "        for d = 1:size(data_test)[1]\n",
    "           append!(tuple_test, [(data_test[d,1:4],data_test[d,5])])\n",
    "        end\n",
    "\n",
    "    end\n",
    "    "
   ]
  },
  {
   "cell_type": "code",
   "execution_count": 4,
   "metadata": {},
   "outputs": [
    {
     "name": "stdout",
     "output_type": "stream",
     "text": [
      "p = Perceptron{Real}(Real[0.4448473974235778, 0.8708043872171827, 0.20752376940059802, 0.13752218436607366], var\"#5#6\"())\n"
     ]
    },
    {
     "data": {
      "text/plain": [
       "Perceptron{Real}(Real[0.4448473974235778, 0.8708043872171827, 0.20752376940059802, 0.13752218436607366], var\"#5#6\"())"
      ]
     },
     "execution_count": 4,
     "metadata": {},
     "output_type": "execute_result"
    }
   ],
   "source": [
    "#Function Like Objects\n",
    "struct Perceptron{T}\n",
    "    W::Vector{T}\n",
    "    sigma\n",
    "end\n",
    "function (p::Perceptron)(x::Vector)\n",
    "    return p.sigma(p.W'*x) \n",
    "end\n",
    "\n",
    "mutable struct PerceptronOpt\n",
    "    eta::Real\n",
    "end\n",
    "\n",
    "p = Perceptron{Real}(rand(4),x->sign(x))\n",
    "\n",
    "opt = PerceptronOpt(1)\n",
    "\n",
    "function update_w!(p::Perceptron,opt,data::Array)\n",
    "    for d in data\n",
    "        x = d[1]\n",
    "        y = d[2]\n",
    "        for i = 1:length(p.W)\n",
    "            p.W[i]= p.W[i] + opt.eta*(y- p(x))*x[i]\n",
    "        end\n",
    "    end\n",
    "end\n",
    "@show p"
   ]
  },
  {
   "cell_type": "code",
   "execution_count": 5,
   "metadata": {},
   "outputs": [],
   "source": [
    "tuple_train = []\n",
    "tuple_test = []\n",
    "#tuple_convert(d::Array) = (d[:,1:4], d[:,5])\n",
    "for d = 1: size(data_train)[1]\n",
    "    append!(tuple_train, [(data_train[d,1:4],data_train[d,5])])\n",
    "end\n",
    "\n",
    "for d = 1:size(data_test)[1]\n",
    "    append!(tuple_test, [(data_test[d,1:4],data_test[d,5])])\n",
    "end\n",
    "\n"
   ]
  },
  {
   "cell_type": "code",
   "execution_count": 6,
   "metadata": {},
   "outputs": [
    {
     "data": {
      "text/plain": [
       "get_classif_accuracy (generic function with 1 method)"
      ]
     },
     "execution_count": 6,
     "metadata": {},
     "output_type": "execute_result"
    }
   ],
   "source": [
    "\n",
    "function update_confusion_matrix!(cm, error, sum)\n",
    "    #update false predictions\n",
    "    if error > 0\n",
    "        cm[2][1] += 1\n",
    "    elseif error < 0 \n",
    "        cm[1][2] += 1\n",
    "    end\n",
    "    if sum > 0\n",
    "        cm[1][1] += 1\n",
    "    elseif sum < 0 \n",
    "        cm[2][2] += 1\n",
    "    end\n",
    "end\n",
    "function get_classif_accuracy(cm)\n",
    "    TP = cm[1][1]\n",
    "    TN = cm[2][2]\n",
    "    P = cm[1][1] + cm[1][2]\n",
    "    N = cm[2][1] + cm[2][2]\n",
    "    return TP + TN/(P+N)\n",
    "end\n",
    "    \n",
    "\n",
    "function get_classif_accuracy(cm)\n",
    "        TP = cm[1][1]\n",
    "        TN = cm[2][2]\n",
    "        P = cm[1][1] + cm[1][2]\n",
    "        N = cm[2][1] + cm[2][2]\n",
    "        return (TP + TN)/(P+N)\n",
    "end\n",
    "\n"
   ]
  },
  {
   "cell_type": "code",
   "execution_count": 102,
   "metadata": {},
   "outputs": [
    {
     "name": "stdout",
     "output_type": "stream",
     "text": [
      "  0.000050 seconds (572 allocations: 9.094 KiB)\n",
      "cm = [[0 1], [14 30]]\n"
     ]
    },
    {
     "data": {
      "text/plain": [
       "0.6666666666666666"
      ]
     },
     "execution_count": 102,
     "metadata": {},
     "output_type": "execute_result"
    }
   ],
   "source": [
    "using BenchmarkTools\n",
    "#train\n",
    "data_size = 10\n",
    "#   TP  FP  FN  TN\n",
    "cm = [[0   0],[0   0]] \n",
    "\n",
    "@time update_w!(p,opt,tuple_train[1:data_size])\n",
    "\n",
    "\n",
    "for n = 1:length(tuple_test)[1]\n",
    "        error = tuple_test[n][2] - p(tuple_test[n][1])\n",
    "        sum = tuple_test[n][2] + p(tuple_test[n][1])\n",
    "        update_confusion_matrix!(cm, error, sum)\n",
    "end\n",
    "\n",
    "@show cm\n",
    "get_classif_accuracy(cm)"
   ]
  },
  {
   "cell_type": "markdown",
   "metadata": {},
   "source": [
    "## Data Size  = 10\n",
    "* time = 0.000054\n",
    "* cm = [[1 2], [13 29]]\n",
    "* accuracy = 0.6666666666666666\n",
    "## Data Size  = 50\n",
    "* time = 0.000151 \n",
    "* cm = [[14 16], [0 15]]\n",
    "* accuracy = 14.244444444444444\n",
    "## Data Size  = 105\n",
    "* time = 0.000274\n",
    "* cm = [[4 12], [10 19]]\n",
    "* accuracy = \n"
   ]
  },
  {
   "cell_type": "code",
   "execution_count": null,
   "metadata": {},
   "outputs": [],
   "source": [
    "p.W"
   ]
  }
 ],
 "metadata": {
  "kernelspec": {
   "display_name": "Julia 1.0.5",
   "language": "julia",
   "name": "julia-1.0"
  },
  "language_info": {
   "file_extension": ".jl",
   "mimetype": "application/julia",
   "name": "julia",
   "version": "1.0.5"
  }
 },
 "nbformat": 4,
 "nbformat_minor": 4
}
