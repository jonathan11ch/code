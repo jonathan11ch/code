{
 "cells": [
  {
   "cell_type": "code",
   "execution_count": 2,
   "metadata": {},
   "outputs": [],
   "source": [
    "using Flux"
   ]
  },
  {
   "cell_type": "code",
   "execution_count": 3,
   "metadata": {},
   "outputs": [
    {
     "data": {
      "text/plain": [
       "actual (generic function with 1 method)"
      ]
     },
     "execution_count": 3,
     "metadata": {},
     "output_type": "execute_result"
    }
   ],
   "source": []
  },
  {
   "cell_type": "markdown",
   "metadata": {},
   "source": [
    "### Get \"Real world\" data "
   ]
  },
  {
   "cell_type": "code",
   "execution_count": 8,
   "metadata": {},
   "outputs": [
    {
     "data": {
      "text/plain": [
       "([0 1 … 4 5], [6 7 … 9 10])"
      ]
     },
     "execution_count": 8,
     "metadata": {},
     "output_type": "execute_result"
    }
   ],
   "source": [
    "actual(x) = 4x +2\n",
    "x_train, x_test = hcat(0:5...), hcat(6:10...)\n",
    "y_train, y_test = actual.(x_train), actual.(x_test)"
   ]
  },
  {
   "cell_type": "markdown",
   "metadata": {},
   "source": [
    "### Create Model"
   ]
  },
  {
   "cell_type": "code",
   "execution_count": 13,
   "metadata": {},
   "outputs": [
    {
     "ename": "ErrorException",
     "evalue": "\u001b[91mtype Dense has no field bias\u001b[39m",
     "output_type": "error",
     "traceback": [
      "\u001b[91mtype Dense has no field bias\u001b[39m",
      "",
      "Stacktrace:",
      " [1] getproperty(::Dense{typeof(identity),Array{Float32,2},Array{Float32,1}}, ::Symbol) at ./Base.jl:33",
      " [2] top-level scope at In[13]:2"
     ]
    }
   ],
   "source": [
    "model = Dense(1, 1)\n",
    "model.bias"
   ]
  },
  {
   "cell_type": "code",
   "execution_count": 17,
   "metadata": {},
   "outputs": [
    {
     "ename": "LoadError",
     "evalue": "\u001b[91msyntax: \"\\\" is not a unary operator\u001b[39m",
     "output_type": "error",
     "traceback": [
      "\u001b[91msyntax: \"\\\" is not a unary operator\u001b[39m",
      ""
     ]
    }
   ],
   "source": [
    "\\Sigma"
   ]
  }
 ],
 "metadata": {
  "kernelspec": {
   "display_name": "Julia 1.4.1",
   "language": "julia",
   "name": "julia-1.4"
  },
  "language_info": {
   "file_extension": ".jl",
   "mimetype": "application/julia",
   "name": "julia",
   "version": "1.4.1"
  }
 },
 "nbformat": 4,
 "nbformat_minor": 4
}
