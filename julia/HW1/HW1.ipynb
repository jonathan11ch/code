{
 "cells": [
  {
   "cell_type": "code",
   "execution_count": 32,
   "metadata": {},
   "outputs": [
    {
     "name": "stdout",
     "output_type": "stream",
     "text": [
      "\u001b[32m\u001b[1m Resolving\u001b[22m\u001b[39m package versions...\n",
      "\u001b[32m\u001b[1m  Updating\u001b[22m\u001b[39m `~/.julia/environments/v1.0/Project.toml`\n",
      "\u001b[90m [no changes]\u001b[39m\n",
      "\u001b[32m\u001b[1m  Updating\u001b[22m\u001b[39m `~/.julia/environments/v1.0/Manifest.toml`\n",
      "\u001b[90m [no changes]\u001b[39m\n"
     ]
    }
   ],
   "source": [
    "import Pkg\n",
    "packages = [\"CSV\", \"DataFrames\", \"PlutoUI\", \"Plots\",\"Combinatorics\",\"Gadfly\"]\n",
    "Pkg.add(packages)"
   ]
  },
  {
   "cell_type": "code",
   "execution_count": 59,
   "metadata": {},
   "outputs": [
    {
     "name": "stderr",
     "output_type": "stream",
     "text": [
      "┌ Info: Precompiling CSV [336ed68f-0bac-5ca0-87d4-7b16caf5d00b]\n",
      "└ @ Base loading.jl:1192\n",
      "ERROR: LoadError: LoadError: TypeError: in Type{...} expression, expected UnionAll, got Type{Parsers.Options}\n",
      "Stacktrace:\n",
      " [1] top-level scope at none:0\n",
      " [2] include at ./boot.jl:317 [inlined]\n",
      " [3] include_relative(::Module, ::String) at ./loading.jl:1044\n",
      " [4] include at ./sysimg.jl:29 [inlined]\n",
      " [5] include(::String) at /Users/jonathancasas/.julia/packages/CSV/Zl2ww/src/CSV.jl:1\n",
      " [6] top-level scope at none:0\n",
      " [7] include at ./boot.jl:317 [inlined]\n",
      " [8] include_relative(::Module, ::String) at ./loading.jl:1044\n",
      " [9] include(::Module, ::String) at ./sysimg.jl:29\n",
      " [10] top-level scope at none:2\n",
      " [11] eval at ./boot.jl:319 [inlined]\n",
      " [12] eval(::Expr) at ./client.jl:393\n",
      " [13] top-level scope at ./none:3\n",
      "in expression starting at /Users/jonathancasas/.julia/packages/CSV/Zl2ww/src/detection.jl:164\n",
      "in expression starting at /Users/jonathancasas/.julia/packages/CSV/Zl2ww/src/CSV.jl:27\n"
     ]
    },
    {
     "ename": "ErrorException",
     "evalue": "\u001b[91mFailed to precompile CSV [336ed68f-0bac-5ca0-87d4-7b16caf5d00b] to /Users/jonathancasas/.julia/compiled/v1.0/CSV/HHBkp.ji.\u001b[39m",
     "output_type": "error",
     "traceback": [
      "\u001b[91mFailed to precompile CSV [336ed68f-0bac-5ca0-87d4-7b16caf5d00b] to /Users/jonathancasas/.julia/compiled/v1.0/CSV/HHBkp.ji.\u001b[39m",
      "",
      "Stacktrace:",
      " [1] error(::String) at ./error.jl:33",
      " [2] compilecache(::Base.PkgId, ::String) at ./loading.jl:1203",
      " [3] _require(::Base.PkgId) at ./loading.jl:960",
      " [4] require(::Base.PkgId) at ./loading.jl:858",
      " [5] require(::Module, ::Symbol) at ./loading.jl:853",
      " [6] top-level scope at In[59]:1"
     ]
    }
   ],
   "source": [
    "using CSV, DataFrames,PlutoUI, Plots, Combinatorics\n",
    "using DelimitedFiles\n",
    "path = \"./dataset.csv\"\n",
    "csv_data = CSV.read(path)\n",
    "\n",
    "\n",
    "\n"
   ]
  },
  {
   "cell_type": "code",
   "execution_count": 57,
   "metadata": {},
   "outputs": [
    {
     "ename": "UndefVarError",
     "evalue": "\u001b[91mUndefVarError: DataFrame not defined\u001b[39m",
     "output_type": "error",
     "traceback": [
      "\u001b[91mUndefVarError: DataFrame not defined\u001b[39m",
      "",
      "Stacktrace:",
      " [1] top-level scope at In[57]:3"
     ]
    }
   ],
   "source": [
    "using DelimitedFiles\n",
    "pwd()"
   ]
  }
 ],
 "metadata": {
  "kernelspec": {
   "display_name": "Julia 1.0.5",
   "language": "julia",
   "name": "julia-1.0"
  },
  "language_info": {
   "file_extension": ".jl",
   "mimetype": "application/julia",
   "name": "julia",
   "version": "1.0.5"
  }
 },
 "nbformat": 4,
 "nbformat_minor": 4
}
