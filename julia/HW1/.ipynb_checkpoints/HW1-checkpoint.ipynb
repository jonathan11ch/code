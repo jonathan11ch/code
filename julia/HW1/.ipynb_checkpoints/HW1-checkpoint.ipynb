{
 "cells": [
  {
   "cell_type": "code",
   "execution_count": 125,
   "metadata": {},
   "outputs": [
    {
     "data": {
      "text/plain": [
       "Flux.Data.DataLoader{Tuple{LinearAlgebra.Adjoint{Float64,Array{Float64,2}},LinearAlgebra.Adjoint{Float64,Array{Float64,1}}}}(([29.7983 20.5372 … 18.1525 20.3418; 19.8669 7.2564 … 15.6634 12.8448; … ; 36.3005 89.6566 … 74.436 11.572; 107.001 140.618 … 181.289 163.561], [1.0 1.0 … 0.0 1.0]), 15000, 15216, true, 15216, [1, 2, 3, 4, 5, 6, 7, 8, 9, 10  …  15207, 15208, 15209, 15210, 15211, 15212, 15213, 15214, 15215, 15216], true)"
      ]
     },
     "execution_count": 125,
     "metadata": {},
     "output_type": "execute_result"
    }
   ],
   "source": [
    "using CSV, DataFrames, DelimitedFiles, Random, BenchmarkTools\n",
    "#Data extraction\n",
    "path = \"/home/jonathan/github/code/julia/HW1/magic04.csv\"\n",
    "#load data frame\n",
    "df = CSV.read(path, DataFrame, delim = \";\")\n",
    "#convert in matrix format\n",
    "data= Matrix(df)\n",
    "#randomize data\n",
    "data = data[shuffle(1:end), :]\n",
    "#split train and test data sets\n",
    "test_ratio = 0.8\n",
    "x_range =  Int(floor(size(data,1)*test_ratio))\n",
    "data_train_x = data[1:x_range, 1:10]\n",
    "data_train_y = data[1:x_range, end]\n",
    "data_test_x  = data[x_range:end, 1:10]\n",
    "data_test_y  = data[x_range:end, end]\n",
    "#\n",
    "data_flux = Flux.Data.DataLoader(data_train_x', data_train_y', batchsize=15000, shuffle = true)\n"
   ]
  },
  {
   "cell_type": "code",
   "execution_count": 127,
   "metadata": {},
   "outputs": [
    {
     "data": {
      "text/plain": [
       "3.734055135190432"
      ]
     },
     "execution_count": 127,
     "metadata": {},
     "output_type": "execute_result"
    }
   ],
   "source": [
    "using Flux\n",
    "using Flux.Optimise: train!\n",
    "#model size\n",
    "inputs = 10\n",
    "hidden = 10\n",
    "outputs = 1\n",
    "#layers of the moder\n",
    "model = Chain(Dense(inputs, hidden, σ),Dense(hidden, outputs))\n",
    "#reshape the parameters W and b from the NN to the FLUX format\n",
    "parameters = Flux.params(model)\n",
    "errors = zeros(size(data_test_x)[1])\n",
    "for n in 1:size(data_test_x)[1]\n",
    "  errors[n] = loss(data_test_x[n,:],data_test_y[n])\n",
    "end\n",
    "mean(errors)\n"
   ]
  },
  {
   "cell_type": "code",
   "execution_count": 128,
   "metadata": {},
   "outputs": [],
   "source": [
    "#define mse loss function\n",
    "loss(x,y) = Flux.Losses.mse(model(x), y)\n",
    "\n",
    "loss(rand(10), 1)\n",
    "\n",
    "#optimization algorithm\n",
    "opt = Descent(0.01)\n",
    "\n",
    "epochs = 100\n",
    "#training function\n",
    "for i in 1:epochs\n",
    "    train!(loss, parameters, data_flux, opt) \n",
    "end\n"
   ]
  },
  {
   "cell_type": "code",
   "execution_count": 129,
   "metadata": {},
   "outputs": [
    {
     "data": {
      "text/plain": [
       "0.19523858183960832"
      ]
     },
     "execution_count": 129,
     "metadata": {},
     "output_type": "execute_result"
    }
   ],
   "source": [
    "errors = zeros(size(data_test_x)[1])\n",
    "for n in 1:size(data_test_x)[1]\n",
    "  errors[n] = loss(data_test_x[n,:],data_test_y[n])\n",
    "end\n",
    "mean(errors)"
   ]
  },
  {
   "cell_type": "code",
   "execution_count": 124,
   "metadata": {},
   "outputs": [
    {
     "data": {
      "text/plain": [
       "15216"
      ]
     },
     "execution_count": 124,
     "metadata": {},
     "output_type": "execute_result"
    }
   ],
   "source": [
    "size(data_train_x)[1]"
   ]
  }
 ],
 "metadata": {
  "kernelspec": {
   "display_name": "Julia 1.4.1",
   "language": "julia",
   "name": "julia-1.4"
  },
  "language_info": {
   "file_extension": ".jl",
   "mimetype": "application/julia",
   "name": "julia",
   "version": "1.4.1"
  }
 },
 "nbformat": 4,
 "nbformat_minor": 4
}
