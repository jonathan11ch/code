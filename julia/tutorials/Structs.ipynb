{
 "cells": [
  {
   "cell_type": "markdown",
   "metadata": {},
   "source": [
    "## Testing Constructors\n"
   ]
  },
  {
   "cell_type": "code",
   "execution_count": null,
   "metadata": {},
   "outputs": [],
   "source": [
    "\n",
    "struct Poly\n",
    "    W \n",
    "    eta::Real\n",
    "    #predict : function(x) = W*x\n",
    "end\n",
    "\n",
    "q = Poly([1],2)"
   ]
  },
  {
   "cell_type": "code",
   "execution_count": null,
   "metadata": {},
   "outputs": [],
   "source": [
    "@show fieldnames(Poly)\n",
    "#the struct objects are inmutable, but ist internal element types can be immutable(e.g., arrays)\n",
    "q.W[1] = 5  # this is fine\n",
    "@show q\n",
    "q.eta = 3   #this is not"
   ]
  },
  {
   "cell_type": "code",
   "execution_count": null,
   "metadata": {},
   "outputs": [],
   "source": [
    "#Mutable struct\n",
    "mutable struct Bar\n",
    "    basz\n",
    "    qux::Float64\n",
    "end\n",
    "b = Bar([], 3)"
   ]
  },
  {
   "cell_type": "code",
   "execution_count": null,
   "metadata": {},
   "outputs": [],
   "source": [
    "struct OrderedPair\n",
    "           x::Real\n",
    "           y::Real\n",
    "           OrderedPair(x,y) = x > y ? error(\"out of order\") : new(x,y)\n",
    "       end\n",
    "OrderedPair(1, 2)"
   ]
  },
  {
   "cell_type": "code",
   "execution_count": null,
   "metadata": {},
   "outputs": [],
   "source": [
    "# Union types: to define types that can be multiple (e.g., vector or matrix)\n",
    "VectorOrMatrix = Union{AbstractVector, AbstractMatrix}\n",
    "@show [1,2,3]::VectorOrMatrix   #good\n",
    "@show [[1,2,3],[1,2,3]]::VectorOrMatrix   #good\n",
    "@show \"Abs\"::VectorOrMatrix #bad"
   ]
  },
  {
   "cell_type": "code",
   "execution_count": null,
   "metadata": {},
   "outputs": [],
   "source": [
    "#Parametric Composite types\n",
    "struct Point{T}\n",
    "    x::T\n",
    "    y::T\n",
    "end\n",
    "\n",
    "A = Point{Number} # This becomes a subtype of Point\n",
    "B = Point{Float64}# this as well\n",
    "@show A<:Point\n",
    "@show B<:Point\n",
    "@show B<:A\n",
    "\n",
    "@show a = A(1,2)\n",
    "@show b = B(3,2)\n",
    "#alternatively\n",
    "@show c = Point{Int}(1,2)"
   ]
  },
  {
   "cell_type": "code",
   "execution_count": null,
   "metadata": {},
   "outputs": [],
   "source": [
    "#Function Like Objects\n",
    "struct Model{T}\n",
    "    W::Vector{T}\n",
    "    sigma\n",
    "end\n",
    "function (m::Model)(x::Vector)\n",
    "    return m.sigma(m.W'*x) \n",
    "end\n",
    "\n",
    "mutable struct PerceptronOpt\n",
    "    eta::Real\n",
    "end\n",
    "\n",
    "\n",
    "m = Model{Real}([1,1,1],x->sign(x))\n",
    "\n",
    "opt = PerceptronOpt(0.1)\n",
    "\n",
    "\n",
    "function update_w!(m::Model,opt,data)\n",
    "    for d in data\n",
    "        @show x = d[1]\n",
    "        @show y = d[2]\n",
    "        for i = 1:length(m.W)\n",
    "            m.W[i]= m.W[i] + opt.eta*(m(x)-y)*x[i]\n",
    "        end\n",
    "        @show m\n",
    "    end\n",
    "end\n",
    "\n",
    "@show opt\n",
    "@show m"
   ]
  },
  {
   "cell_type": "code",
   "execution_count": null,
   "metadata": {},
   "outputs": [],
   "source": [
    "data =  [([1,2,3],-1),([4,5,6],1)]\n",
    "update_w!(m,opt,data)\n",
    "\n"
   ]
  },
  {
   "cell_type": "code",
   "execution_count": null,
   "metadata": {},
   "outputs": [],
   "source": [
    "@show m([1,2,3])\n",
    "@show m([4,5,6])\n"
   ]
  },
  {
   "cell_type": "code",
   "execution_count": null,
   "metadata": {},
   "outputs": [],
   "source": [
    "\n",
    "struct Polynomial{R}\n",
    "           coeffs::Vector{R}\n",
    "end\n",
    "function (p::Polynomial)(x)\n",
    "           v = p.coeffs[end]\n",
    "           for i = (length(p.coeffs)-1):-1:1\n",
    "               v = v*x + p.coeffs[i]\n",
    "           end\n",
    "           return v\n",
    "       end\n",
    "p = Polynomial([1,10,100])"
   ]
  },
  {
   "cell_type": "code",
   "execution_count": null,
   "metadata": {},
   "outputs": [],
   "source": [
    "params = [([1,2,3],2),([4,5,6],3)]\n",
    "for p in params\n",
    "    @show p[1]\n",
    "end"
   ]
  },
  {
   "cell_type": "code",
   "execution_count": null,
   "metadata": {},
   "outputs": [],
   "source": []
  },
  {
   "cell_type": "code",
   "execution_count": null,
   "metadata": {},
   "outputs": [],
   "source": []
  },
  {
   "cell_type": "code",
   "execution_count": null,
   "metadata": {},
   "outputs": [],
   "source": []
  }
 ],
 "metadata": {
  "kernelspec": {
   "display_name": "Julia 1.4.1",
   "language": "julia",
   "name": "julia-1.4"
  },
  "language_info": {
   "file_extension": ".jl",
   "mimetype": "application/julia",
   "name": "julia",
   "version": "1.4.1"
  }
 },
 "nbformat": 4,
 "nbformat_minor": 4
}
