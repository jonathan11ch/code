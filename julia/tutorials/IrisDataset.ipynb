{
 "cells": [
  {
   "cell_type": "code",
   "execution_count": 1,
   "metadata": {},
   "outputs": [
    {
     "name": "stderr",
     "output_type": "stream",
     "text": [
      "\u001b[32m\u001b[1m   Updating\u001b[22m\u001b[39m registry at `~/.julia/registries/General`\n"
     ]
    },
    {
     "name": "stdout",
     "output_type": "stream",
     "text": [
      "\u001b[?25l    "
     ]
    },
    {
     "name": "stderr",
     "output_type": "stream",
     "text": [
      "\u001b[32m\u001b[1m   Updating\u001b[22m\u001b[39m git-repo `https://github.com/JuliaRegistries/General.git`\n"
     ]
    },
    {
     "name": "stdout",
     "output_type": "stream",
     "text": [
      "\u001b[36m\u001b[1mFetching:\u001b[22m\u001b[39m [>                                        ]  0.0 %\r",
      "    \u001b[36m\u001b[1mFetching:\u001b[22m\u001b[39m [======>                                  ]  14.3 %\r",
      "    \u001b[36m\u001b[1mFetching:\u001b[22m\u001b[39m [============>                            ]  28.6 %\r",
      "    \u001b[36m\u001b[1mFetching:\u001b[22m\u001b[39m [==================>                      ]  42.9 %\r",
      "    \u001b[36m\u001b[1mFetching:\u001b[22m\u001b[39m [=======================>                 ]  57.1 %\r",
      "    \u001b[36m\u001b[1mFetching:\u001b[22m\u001b[39m [=============================>           ]  71.4 %\r",
      "    \u001b[36m\u001b[1mFetching:\u001b[22m\u001b[39m [===================================>     ]  85.7 %\r",
      "    \u001b[36m\u001b[1mFetching:\u001b[22m\u001b[39m [========================================>]  100.0 %\r",
      "\u001b[2K\u001b[?25h"
     ]
    },
    {
     "name": "stderr",
     "output_type": "stream",
     "text": [
      "\u001b[32m\u001b[1m  Resolving\u001b[22m\u001b[39m package versions...\n",
      "\u001b[32m\u001b[1m   Updating\u001b[22m\u001b[39m `~/.julia/environments/v1.4/Project.toml`\n",
      "\u001b[90m [no changes]\u001b[39m\n",
      "\u001b[32m\u001b[1m   Updating\u001b[22m\u001b[39m `~/.julia/environments/v1.4/Manifest.toml`\n",
      "\u001b[90m [no changes]\u001b[39m\n",
      "┌ Info: For saving to png with the Plotly backend PlotlyBase has to be installed.\n",
      "└ @ Plots /home/jonathan/.julia/packages/Plots/uCh2y/src/backends.jl:372\n"
     ]
    }
   ],
   "source": [
    "begin\n",
    "    import Pkg;\n",
    "    packages = [\"CSV\",\"DataFrames\",\"PlutoUI\",\"Plots\",\"Combinatorics\"]   \n",
    "    Pkg.add(packages)\n",
    "\n",
    "    using CSV, DataFrames, PlutoUI, Plots, Combinatorics\n",
    "\n",
    "    plotly()\n",
    "    theme(:solarized_light)\n",
    "end\n",
    "\n",
    "\n",
    "begin\n",
    "    path = \"/home/jonathan/Datasets/iris.data\"\n",
    "    csv_data = CSV.File(path, header=false)\n",
    "    y  =  vcat(-(ones(50)),ones(50),-(ones(50)))\n",
    "    iris_names = [\"sepal_len\", \"sepal_wid\", \"petal_len\", \"petal_wid\", \"output\",\"class\"]\n",
    "    df = DataFrame([csv_data.Column1,csv_data.Column2,csv_data.Column3,csv_data.Column4,y,csv_data.Column5], Symbol.(iris_names))\n",
    "    dropmissing!(df)\n",
    "\n",
    "end\n",
    "\n",
    "begin\n",
    "    df_species = groupby(df, :class)\n",
    "end\n",
    "\n",
    "df_species[3]\n",
    "\n",
    "begin\n",
    "    scatter(title=\"len vs wid\", xlabel = \"length\", ylabel=\"width\",\n",
    "             df.sepal_len, df.sepal_wid, color=\"blue\", label=\"sepal\")\n",
    "    scatter!(df.petal_len, df.petal_wid, color=\"red\", label=\"petal\")\n",
    "end\n",
    "\n",
    "begin\n",
    "    Pkg.add(\"Flux\")\n",
    "    Pkg.add(\"CUDA\")\n",
    "    Pkg.add(\"IterTools\")\n",
    "\n",
    "    using Flux\n",
    "    using Flux: Data.DataLoader\n",
    "    using Flux: @epochs\n",
    "    using CUDA\n",
    "    using Random\n",
    "    using IterTools: ncycle\n",
    "\n",
    "    Random.seed!(123);\n",
    "end\n",
    "\n",
    "begin   \n",
    "    # Convert df to array\n",
    "    data = Matrix(df)\n",
    "\n",
    "    # Shuffle\n",
    "    data = data[shuffle(1:end), :]\n",
    "\n",
    "    # train/test split\n",
    "    train_test_ratio = .7\n",
    "    idx = Int(floor(size(df, 1) * train_test_ratio))\n",
    "    data_train = data[1:idx,:]\n",
    "    data_test = data[idx+1:end, :]\n",
    "    \n",
    "    tuple_train = []\n",
    "    tuple_test = []\n",
    "    \n",
    "    #tuple_convert(d::Array) = (d[:,1:4], d[:,5])\n",
    "    for d = 1: size(data_train)[1]\n",
    "        append!(tuple_train, [(data_train[d,1:4],data_train[d,5])])\n",
    "    end\n",
    "    for d = 1:size(data_test)[1]\n",
    "        append!(tuple_test, [(data_test[d,1:4],data_test[d,5])])\n",
    "    end\n",
    "\n",
    "end"
   ]
  },
  {
   "cell_type": "code",
   "execution_count": 138,
   "metadata": {},
   "outputs": [
    {
     "name": "stdout",
     "output_type": "stream",
     "text": [
      "tuple_train[end] = (Any[4.9, 3.0, 1.4, 0.2], -1.0)\n",
      "tuple_test = Any[(Any[5.2, 3.4, 1.4, 0.2], -1.0), (Any[6.2, 2.2, 4.5, 1.5], 1.0), (Any[5.5, 2.4, 3.8, 1.1], 1.0), (Any[5.7, 2.9, 4.2, 1.3], 1.0), (Any[6.7, 3.3, 5.7, 2.1], -1.0), (Any[5.9, 3.0, 4.2, 1.5], 1.0), (Any[4.7, 3.2, 1.3, 0.2], -1.0), (Any[6.3, 2.5, 5.0, 1.9], -1.0), (Any[5.6, 2.7, 4.2, 1.3], 1.0), (Any[5.0, 2.0, 3.5, 1.0], 1.0), (Any[6.0, 3.0, 4.8, 1.8], -1.0), (Any[5.8, 2.7, 5.1, 1.9], -1.0), (Any[6.4, 2.8, 5.6, 2.2], -1.0), (Any[4.8, 3.0, 1.4, 0.3], -1.0), (Any[6.1, 2.8, 4.7, 1.2], 1.0), (Any[5.0, 3.2, 1.2, 0.2], -1.0), (Any[6.9, 3.1, 4.9, 1.5], 1.0), (Any[4.6, 3.6, 1.0, 0.2], -1.0), (Any[5.1, 3.8, 1.6, 0.2], -1.0), (Any[6.3, 2.8, 5.1, 1.5], -1.0), (Any[5.7, 4.4, 1.5, 0.4], -1.0), (Any[4.9, 2.5, 4.5, 1.7], -1.0), (Any[6.7, 3.1, 4.4, 1.4], 1.0), (Any[5.6, 2.9, 3.6, 1.3], 1.0), (Any[5.7, 2.5, 5.0, 2.0], -1.0), (Any[4.9, 2.4, 3.3, 1.0], 1.0), (Any[4.9, 3.1, 1.5, 0.1], -1.0), (Any[6.6, 2.9, 4.6, 1.3], 1.0), (Any[6.2, 2.9, 4.3, 1.3], 1.0), (Any[5.7, 3.0, 4.2, 1.2], 1.0), (Any[6.3, 3.4, 5.6, 2.4], -1.0), (Any[5.2, 3.5, 1.5, 0.2], -1.0), (Any[7.7, 3.8, 6.7, 2.2], -1.0), (Any[6.7, 3.1, 5.6, 2.4], -1.0), (Any[6.4, 3.2, 5.3, 2.3], -1.0), (Any[6.0, 3.4, 4.5, 1.6], 1.0), (Any[5.1, 3.5, 1.4, 0.2], -1.0), (Any[5.3, 3.7, 1.5, 0.2], -1.0), (Any[6.1, 3.0, 4.9, 1.8], -1.0), (Any[6.5, 2.8, 4.6, 1.5], 1.0), (Any[6.3, 2.9, 5.6, 1.8], -1.0), (Any[6.4, 3.2, 4.5, 1.5], 1.0), (Any[6.5, 3.0, 5.8, 2.2], -1.0), (Any[6.0, 2.7, 5.1, 1.6], 1.0), (Any[5.1, 2.5, 3.0, 1.1], 1.0)]\n"
     ]
    },
    {
     "data": {
      "text/plain": [
       "45-element Array{Any,1}:\n",
       " (Any[5.2, 3.4, 1.4, 0.2], -1.0)\n",
       " (Any[6.2, 2.2, 4.5, 1.5], 1.0)\n",
       " (Any[5.5, 2.4, 3.8, 1.1], 1.0)\n",
       " (Any[5.7, 2.9, 4.2, 1.3], 1.0)\n",
       " (Any[6.7, 3.3, 5.7, 2.1], -1.0)\n",
       " (Any[5.9, 3.0, 4.2, 1.5], 1.0)\n",
       " (Any[4.7, 3.2, 1.3, 0.2], -1.0)\n",
       " (Any[6.3, 2.5, 5.0, 1.9], -1.0)\n",
       " (Any[5.6, 2.7, 4.2, 1.3], 1.0)\n",
       " (Any[5.0, 2.0, 3.5, 1.0], 1.0)\n",
       " (Any[6.0, 3.0, 4.8, 1.8], -1.0)\n",
       " (Any[5.8, 2.7, 5.1, 1.9], -1.0)\n",
       " (Any[6.4, 2.8, 5.6, 2.2], -1.0)\n",
       " ⋮\n",
       " (Any[6.7, 3.1, 5.6, 2.4], -1.0)\n",
       " (Any[6.4, 3.2, 5.3, 2.3], -1.0)\n",
       " (Any[6.0, 3.4, 4.5, 1.6], 1.0)\n",
       " (Any[5.1, 3.5, 1.4, 0.2], -1.0)\n",
       " (Any[5.3, 3.7, 1.5, 0.2], -1.0)\n",
       " (Any[6.1, 3.0, 4.9, 1.8], -1.0)\n",
       " (Any[6.5, 2.8, 4.6, 1.5], 1.0)\n",
       " (Any[6.3, 2.9, 5.6, 1.8], -1.0)\n",
       " (Any[6.4, 3.2, 4.5, 1.5], 1.0)\n",
       " (Any[6.5, 3.0, 5.8, 2.2], -1.0)\n",
       " (Any[6.0, 2.7, 5.1, 1.6], 1.0)\n",
       " (Any[5.1, 2.5, 3.0, 1.1], 1.0)"
      ]
     },
     "execution_count": 138,
     "metadata": {},
     "output_type": "execute_result"
    }
   ],
   "source": [
    "@show tuple_train[end]\n",
    "@show tuple_test"
   ]
  },
  {
   "cell_type": "code",
   "execution_count": 66,
   "metadata": {},
   "outputs": [
    {
     "data": {
      "text/plain": [
       "(Any[7.7, 2.6, 6.9, 2.3], -1.0)"
      ]
     },
     "execution_count": 66,
     "metadata": {},
     "output_type": "execute_result"
    }
   ],
   "source": [
    "(data_train[1,1:4], data_train[1,5])"
   ]
  }
 ],
 "metadata": {
  "kernelspec": {
   "display_name": "Julia 1.4.1",
   "language": "julia",
   "name": "julia-1.4"
  },
  "language_info": {
   "file_extension": ".jl",
   "mimetype": "application/julia",
   "name": "julia",
   "version": "1.4.1"
  }
 },
 "nbformat": 4,
 "nbformat_minor": 4
}
