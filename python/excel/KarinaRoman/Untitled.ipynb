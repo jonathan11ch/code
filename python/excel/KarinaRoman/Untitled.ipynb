{
 "cells": [
  {
   "cell_type": "code",
   "execution_count": 38,
   "metadata": {},
   "outputs": [],
   "source": [
    "import pandas as pd\n",
    "import numpy as np\n",
    "\n",
    "ex1_name = 'ex1.xlsx'\n",
    "\n",
    "ex1 = pd.read_excel(ex1_name, sheet_name = None)"
   ]
  },
  {
   "cell_type": "code",
   "execution_count": 40,
   "metadata": {},
   "outputs": [
    {
     "data": {
      "text/plain": [
       "dict"
      ]
     },
     "execution_count": 40,
     "metadata": {},
     "output_type": "execute_result"
    }
   ],
   "source": [
    "type(ex1)\n"
   ]
  },
  {
   "cell_type": "code",
   "execution_count": 63,
   "metadata": {},
   "outputs": [
    {
     "data": {
      "text/html": [
       "<div>\n",
       "<style scoped>\n",
       "    .dataframe tbody tr th:only-of-type {\n",
       "        vertical-align: middle;\n",
       "    }\n",
       "\n",
       "    .dataframe tbody tr th {\n",
       "        vertical-align: top;\n",
       "    }\n",
       "\n",
       "    .dataframe thead th {\n",
       "        text-align: right;\n",
       "    }\n",
       "</style>\n",
       "<table border=\"1\" class=\"dataframe\">\n",
       "  <thead>\n",
       "    <tr style=\"text-align: right;\">\n",
       "      <th></th>\n",
       "      <th>title</th>\n",
       "      <th>age</th>\n",
       "    </tr>\n",
       "  </thead>\n",
       "  <tbody>\n",
       "    <tr>\n",
       "      <th>0</th>\n",
       "      <td>aaaa</td>\n",
       "      <td>1</td>\n",
       "    </tr>\n",
       "    <tr>\n",
       "      <th>1</th>\n",
       "      <td>bbbb</td>\n",
       "      <td>2</td>\n",
       "    </tr>\n",
       "    <tr>\n",
       "      <th>2</th>\n",
       "      <td>vvv</td>\n",
       "      <td>3</td>\n",
       "    </tr>\n",
       "    <tr>\n",
       "      <th>3</th>\n",
       "      <td>ffff</td>\n",
       "      <td>4</td>\n",
       "    </tr>\n",
       "  </tbody>\n",
       "</table>\n",
       "</div>"
      ],
      "text/plain": [
       "  title  age\n",
       "0  aaaa    1\n",
       "1  bbbb    2\n",
       "2   vvv    3\n",
       "3  ffff    4"
      ]
     },
     "execution_count": 63,
     "metadata": {},
     "output_type": "execute_result"
    }
   ],
   "source": [
    "e1 = pd.concat(ex1, ignore_index =True)\n",
    "type(e1)\n",
    "e1"
   ]
  },
  {
   "cell_type": "code",
   "execution_count": 120,
   "metadata": {},
   "outputs": [
    {
     "data": {
      "text/html": [
       "<style type=\"text/css\">\n",
       "#T_16ae3_row0_col0, #T_16ae3_row0_col1, #T_16ae3_row1_col0, #T_16ae3_row1_col1, #T_16ae3_row2_col0, #T_16ae3_row2_col1, #T_16ae3_row3_col0, #T_16ae3_row3_col1 {\n",
       "  background-color: black;\n",
       "  color: green;\n",
       "}\n",
       "</style>\n",
       "<table id=\"T_16ae3\">\n",
       "  <thead>\n",
       "    <tr>\n",
       "      <th class=\"blank level0\" >&nbsp;</th>\n",
       "      <th id=\"T_16ae3_level0_col0\" class=\"col_heading level0 col0\" >title</th>\n",
       "      <th id=\"T_16ae3_level0_col1\" class=\"col_heading level0 col1\" >age</th>\n",
       "    </tr>\n",
       "  </thead>\n",
       "  <tbody>\n",
       "    <tr>\n",
       "      <th id=\"T_16ae3_level0_row0\" class=\"row_heading level0 row0\" >0</th>\n",
       "      <td id=\"T_16ae3_row0_col0\" class=\"data row0 col0\" >aaaa</td>\n",
       "      <td id=\"T_16ae3_row0_col1\" class=\"data row0 col1\" >1</td>\n",
       "    </tr>\n",
       "    <tr>\n",
       "      <th id=\"T_16ae3_level0_row1\" class=\"row_heading level0 row1\" >1</th>\n",
       "      <td id=\"T_16ae3_row1_col0\" class=\"data row1 col0\" >bbbb</td>\n",
       "      <td id=\"T_16ae3_row1_col1\" class=\"data row1 col1\" >2</td>\n",
       "    </tr>\n",
       "    <tr>\n",
       "      <th id=\"T_16ae3_level0_row2\" class=\"row_heading level0 row2\" >2</th>\n",
       "      <td id=\"T_16ae3_row2_col0\" class=\"data row2 col0\" >vvv</td>\n",
       "      <td id=\"T_16ae3_row2_col1\" class=\"data row2 col1\" >3</td>\n",
       "    </tr>\n",
       "    <tr>\n",
       "      <th id=\"T_16ae3_level0_row3\" class=\"row_heading level0 row3\" >3</th>\n",
       "      <td id=\"T_16ae3_row3_col0\" class=\"data row3 col0\" >ffff</td>\n",
       "      <td id=\"T_16ae3_row3_col1\" class=\"data row3 col1\" >4</td>\n",
       "    </tr>\n",
       "  </tbody>\n",
       "</table>\n"
      ],
      "text/plain": [
       "<pandas.io.formats.style.Styler at 0x117a8f2b0>"
      ]
     },
     "execution_count": 120,
     "metadata": {},
     "output_type": "execute_result"
    }
   ],
   "source": [
    "\n",
    "#apply style to all dataframe\n",
    "e1.style.set_properties(**{'background-color': 'black',\n",
    "                           'color': 'green'})\n",
    "\n",
    "\n",
    "\n"
   ]
  },
  {
   "cell_type": "code",
   "execution_count": 121,
   "metadata": {},
   "outputs": [],
   "source": [
    "e1.to_excel('try.xlsx', index =False,engine=\"openpyxl\")"
   ]
  },
  {
   "cell_type": "code",
   "execution_count": null,
   "metadata": {},
   "outputs": [],
   "source": [
    "#color one single columns\n",
    "e1.style.set_properties(**{'background-color': 'red'}, subset=['age'])\n",
    "e1.to_excel(\"output.xlsx\", sheet_name='Sheet_name_1')"
   ]
  },
  {
   "cell_type": "code",
   "execution_count": 92,
   "metadata": {},
   "outputs": [
    {
     "data": {
      "text/html": [
       "<style type=\"text/css\">\n",
       "#T_abb5f_row0_col0, #T_abb5f_row0_col1 {\n",
       "  background-color: blue;\n",
       "}\n",
       "</style>\n",
       "<table id=\"T_abb5f\">\n",
       "  <thead>\n",
       "    <tr>\n",
       "      <th class=\"blank level0\" >&nbsp;</th>\n",
       "      <th id=\"T_abb5f_level0_col0\" class=\"col_heading level0 col0\" >title</th>\n",
       "      <th id=\"T_abb5f_level0_col1\" class=\"col_heading level0 col1\" >age</th>\n",
       "    </tr>\n",
       "  </thead>\n",
       "  <tbody>\n",
       "    <tr>\n",
       "      <th id=\"T_abb5f_level0_row0\" class=\"row_heading level0 row0\" >0</th>\n",
       "      <td id=\"T_abb5f_row0_col0\" class=\"data row0 col0\" >aaaa</td>\n",
       "      <td id=\"T_abb5f_row0_col1\" class=\"data row0 col1\" >1</td>\n",
       "    </tr>\n",
       "    <tr>\n",
       "      <th id=\"T_abb5f_level0_row1\" class=\"row_heading level0 row1\" >1</th>\n",
       "      <td id=\"T_abb5f_row1_col0\" class=\"data row1 col0\" >bbbb</td>\n",
       "      <td id=\"T_abb5f_row1_col1\" class=\"data row1 col1\" >2</td>\n",
       "    </tr>\n",
       "    <tr>\n",
       "      <th id=\"T_abb5f_level0_row2\" class=\"row_heading level0 row2\" >2</th>\n",
       "      <td id=\"T_abb5f_row2_col0\" class=\"data row2 col0\" >vvv</td>\n",
       "      <td id=\"T_abb5f_row2_col1\" class=\"data row2 col1\" >3</td>\n",
       "    </tr>\n",
       "    <tr>\n",
       "      <th id=\"T_abb5f_level0_row3\" class=\"row_heading level0 row3\" >3</th>\n",
       "      <td id=\"T_abb5f_row3_col0\" class=\"data row3 col0\" >ffff</td>\n",
       "      <td id=\"T_abb5f_row3_col1\" class=\"data row3 col1\" >4</td>\n",
       "    </tr>\n",
       "  </tbody>\n",
       "</table>\n"
      ],
      "text/plain": [
       "<pandas.io.formats.style.Styler at 0x117a8fbb0>"
      ]
     },
     "execution_count": 92,
     "metadata": {},
     "output_type": "execute_result"
    }
   ],
   "source": [
    "def highlight_greaterthan_1(s):\n",
    "    return ['background-color: blue']\n",
    "\n",
    "\n",
    "e1.style.apply(highlight_greaterthan_1)\n"
   ]
  }
 ],
 "metadata": {
  "kernelspec": {
   "display_name": "Python 3",
   "language": "python",
   "name": "python3"
  },
  "language_info": {
   "codemirror_mode": {
    "name": "ipython",
    "version": 3
   },
   "file_extension": ".py",
   "mimetype": "text/x-python",
   "name": "python",
   "nbconvert_exporter": "python",
   "pygments_lexer": "ipython3",
   "version": "3.9.12"
  }
 },
 "nbformat": 4,
 "nbformat_minor": 4
}
