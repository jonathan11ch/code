{
 "cells": [
  {
   "cell_type": "code",
   "execution_count": 1,
   "metadata": {},
   "outputs": [],
   "source": [
    "import torch\n",
    "import matplotlib.pyplot as plt\n",
    "import matplotlib.ticker as ticker\n",
    "import math"
   ]
  },
  {
   "cell_type": "code",
   "execution_count": 2,
   "metadata": {},
   "outputs": [
    {
     "name": "stdout",
     "output_type": "stream",
     "text": [
      "tensor([0.0000, 0.2167, 0.4333, 0.6500, 0.8666, 1.0833, 1.3000, 1.5166, 1.7333,\n",
      "        1.9500, 2.1666, 2.3833, 2.5999, 2.8166, 3.0333, 3.2499, 3.4666, 3.6832,\n",
      "        3.8999, 4.1166, 4.3332, 4.5499, 4.7666, 4.9832, 5.1999, 5.4165, 5.6332,\n",
      "        5.8499, 6.0665, 6.2832], requires_grad=True)\n"
     ]
    },
    {
     "data": {
      "text/plain": [
       "[<matplotlib.lines.Line2D at 0x136e41f10>]"
      ]
     },
     "execution_count": 2,
     "metadata": {},
     "output_type": "execute_result"
    },
    {
     "data": {
      "image/png": "[encoded data removed]",
      "text/plain": [
       "<Figure size 432x288 with 1 Axes>"
      ]
     },
     "metadata": {
      "needs_background": "light"
     },
     "output_type": "display_data"
    }
   ],
   "source": [
    "a  = torch.linspace(0.,2.*math.pi, steps = 30, requires_grad = True)\n",
    "print(a)\n",
    "plt.plot(a.detach())  #?? detach"
   ]
  },
  {
   "cell_type": "code",
   "execution_count": 3,
   "metadata": {},
   "outputs": [
    {
     "data": {
      "text/plain": [
       "[<matplotlib.lines.Line2D at 0x136f4b8e0>]"
      ]
     },
     "execution_count": 3,
     "metadata": {},
     "output_type": "execute_result"
    },
    {
     "data": {
      "image/png": "[encoded data removed]",
      "text/plain": [
       "<Figure size 432x288 with 1 Axes>"
      ]
     },
     "metadata": {
      "needs_background": "light"
     },
     "output_type": "display_data"
    }
   ],
   "source": [
    "b = torch.sin(a)\n",
    "plt.plot(a.detach(), b.detach())"
   ]
  },
  {
   "cell_type": "markdown",
   "metadata": {},
   "source": [
    "Note that b, comes drom applying sine to the tensor `a`, and the `grad_fn=<SinBackward>` indicates this fact to keep track of the dependencies of $b = sin(a)$ "
   ]
  },
  {
   "cell_type": "code",
   "execution_count": 4,
   "metadata": {},
   "outputs": [
    {
     "name": "stdout",
     "output_type": "stream",
     "text": [
      "tensor([ 0.0000e+00,  2.1497e-01,  4.1989e-01,  6.0517e-01,  7.6216e-01,\n",
      "         8.8351e-01,  9.6355e-01,  9.9853e-01,  9.8683e-01,  9.2898e-01,\n",
      "         8.2769e-01,  6.8770e-01,  5.1555e-01,  3.1930e-01,  1.0812e-01,\n",
      "        -1.0812e-01, -3.1930e-01, -5.1555e-01, -6.8770e-01, -8.2769e-01,\n",
      "        -9.2898e-01, -9.8683e-01, -9.9853e-01, -9.6355e-01, -8.8351e-01,\n",
      "        -7.6216e-01, -6.0517e-01, -4.1989e-01, -2.1497e-01,  1.7485e-07],\n",
      "       grad_fn=<SinBackward0>)\n"
     ]
    }
   ],
   "source": [
    "print(b)"
   ]
  },
  {
   "cell_type": "code",
   "execution_count": 5,
   "metadata": {},
   "outputs": [
    {
     "name": "stdout",
     "output_type": "stream",
     "text": [
      "tensor([ 0.0000e+00,  4.2994e-01,  8.3978e-01,  1.2103e+00,  1.5243e+00,\n",
      "         1.7670e+00,  1.9271e+00,  1.9971e+00,  1.9737e+00,  1.8580e+00,\n",
      "         1.6554e+00,  1.3754e+00,  1.0311e+00,  6.3860e-01,  2.1624e-01,\n",
      "        -2.1624e-01, -6.3860e-01, -1.0311e+00, -1.3754e+00, -1.6554e+00,\n",
      "        -1.8580e+00, -1.9737e+00, -1.9971e+00, -1.9271e+00, -1.7670e+00,\n",
      "        -1.5243e+00, -1.2103e+00, -8.3978e-01, -4.2994e-01,  3.4969e-07],\n",
      "       grad_fn=<MulBackward0>)\n",
      "tensor([ 1.0000,  1.4299,  1.8398,  2.2103,  2.5243,  2.7670,  2.9271,  2.9971,\n",
      "         2.9737,  2.8580,  2.6554,  2.3754,  2.0311,  1.6386,  1.2162,  0.7838,\n",
      "         0.3614, -0.0311, -0.3754, -0.6554, -0.8580, -0.9737, -0.9971, -0.9271,\n",
      "        -0.7670, -0.5243, -0.2103,  0.1602,  0.5701,  1.0000],\n",
      "       grad_fn=<AddBackward0>)\n"
     ]
    }
   ],
   "source": [
    "c = 2 * b\n",
    "print(c)\n",
    "d= c + 1\n",
    "print(d)"
   ]
  },
  {
   "cell_type": "code",
   "execution_count": 6,
   "metadata": {},
   "outputs": [
    {
     "name": "stdout",
     "output_type": "stream",
     "text": [
      "tensor(30., grad_fn=<SumBackward0>)\n"
     ]
    }
   ],
   "source": [
    "out = d.sum()\n",
    "print(out)"
   ]
  },
  {
   "cell_type": "markdown",
   "metadata": {},
   "source": [
    "$d = 2*(sin(a)) + 1$"
   ]
  },
  {
   "cell_type": "code",
   "execution_count": 7,
   "metadata": {},
   "outputs": [
    {
     "name": "stdout",
     "output_type": "stream",
     "text": [
      "None\n",
      "<AddBackward0 object at 0x136f9f190>\n",
      "((<MulBackward0 object at 0x136f8df40>, 0), (None, 0))\n",
      "((<SinBackward0 object at 0x136f9f190>, 0), (None, 0))\n",
      "((<AccumulateGrad object at 0x136f8de50>, 0),)\n",
      "()\n"
     ]
    }
   ],
   "source": [
    "print(a.grad)\n",
    "print(d.grad_fn)\n",
    "print(d.grad_fn.next_functions)\n",
    "print(d.grad_fn.next_functions[0][0].next_functions)\n",
    "print(d.grad_fn.next_functions[0][0].next_functions[0][0].next_functions)\n",
    "print(d.grad_fn.next_functions[0][0].next_functions[0][0].next_functions[0][0].next_functions)"
   ]
  },
  {
   "cell_type": "markdown",
   "metadata": {},
   "source": [
    "$\\frac{\\partial d}{\\partial a} = 2*cos(a)$"
   ]
  },
  {
   "cell_type": "code",
   "execution_count": 8,
   "metadata": {},
   "outputs": [
    {
     "name": "stdout",
     "output_type": "stream",
     "text": [
      "tensor([ 2.0000,  1.9532,  1.8152,  1.5922,  1.2948,  0.9368,  0.5351,  0.1083,\n",
      "        -0.3236, -0.7403, -1.1224, -1.4520, -1.7137, -1.8953, -1.9883, -1.9883,\n",
      "        -1.8953, -1.7137, -1.4520, -1.1224, -0.7403, -0.3236,  0.1083,  0.5351,\n",
      "         0.9368,  1.2948,  1.5922,  1.8152,  1.9532,  2.0000])\n"
     ]
    },
    {
     "data": {
      "text/plain": [
       "[<matplotlib.lines.Line2D at 0x136fd1460>]"
      ]
     },
     "execution_count": 8,
     "metadata": {},
     "output_type": "execute_result"
    },
    {
     "data": {
      "image/png": "[encoded data removed]",
      "text/plain": [
       "<Figure size 432x288 with 1 Axes>"
      ]
     },
     "metadata": {
      "needs_background": "light"
     },
     "output_type": "display_data"
    }
   ],
   "source": [
    "out.backward()\n",
    "print(a.grad)\n",
    "plt.plot(a.detach(), a.grad.detach())"
   ]
  },
  {
   "cell_type": "markdown",
   "metadata": {},
   "source": [
    "# Autograd in Training"
   ]
  },
  {
   "cell_type": "code",
   "execution_count": 9,
   "metadata": {},
   "outputs": [],
   "source": [
    "BATCH_SIZE = 20\n",
    "DIM_IN = 1000\n",
    "HIDDEN_SIZE = 100\n",
    "DIM_OUT = 10\n",
    "\n",
    "class Model(torch.nn.Module):\n",
    "    def __init__(self):\n",
    "        super(Model, self).__init__()\n",
    "        \n",
    "        self.layer1 = torch.nn.Linear(1000, 100)\n",
    "        self.relu = torch.nn.ReLU()\n",
    "        self.layer2 = torch.nn.Linear(100,10)\n",
    "        \n",
    "    def forward(self, x):\n",
    "        x = self.layer1(x)\n",
    "        x = self.relu(x)\n",
    "        x = self.layer2(x)\n",
    "        return x\n",
    "    \n",
    "some_input = torch.randn(BATCH_SIZE,DIM_IN,requires_grad = False)\n",
    "desired_output = torch.randn(BATCH_SIZE, DIM_OUT, requires_grad = False)\n",
    "\n",
    "model = Model()"
   ]
  },
  {
   "cell_type": "code",
   "execution_count": 10,
   "metadata": {},
   "outputs": [
    {
     "name": "stdout",
     "output_type": "stream",
     "text": [
      "tensor([-0.0502, -0.0929,  0.0563,  0.0523, -0.0152, -0.0272,  0.0250,  0.0673,\n",
      "        -0.0963], grad_fn=<SliceBackward0>)\n",
      "None\n",
      "<generator object Module.parameters at 0x136e090b0>\n"
     ]
    }
   ],
   "source": [
    "print(model.layer2.weight[1][1:10])\n",
    "print(model.layer2.weight.grad)\n",
    "print (model.parameters())"
   ]
  },
  {
   "cell_type": "code",
   "execution_count": 11,
   "metadata": {},
   "outputs": [
    {
     "name": "stdout",
     "output_type": "stream",
     "text": [
      "tensor(231.1026, grad_fn=<SumBackward0>)\n",
      "231.10263061523438\n",
      "((<PowBackward0 object at 0x13700d700>, 0),)\n",
      "((<SubBackward0 object at 0x13700dca0>, 0),)\n",
      "None\n"
     ]
    }
   ],
   "source": [
    "#select optimizer\n",
    "optimizer = torch.optim.SGD(model.parameters(), lr= 0.001)\n",
    "\n",
    "prediction = model(some_input)\n",
    "#Calculate the Loss\n",
    "loss = (desired_output - prediction).pow(2).sum()\n",
    "print(loss)\n",
    "print(loss.item())\n",
    "print(loss.grad_fn.next_functions)\n",
    "print(loss.grad_fn.next_functions[0][0].next_functions)\n",
    "print(loss.grad_fn.next_functions[0][0].next_functions[0][0].next_functions[0][0])"
   ]
  },
  {
   "cell_type": "markdown",
   "metadata": {},
   "source": [
    "The function `loss.backward()` updates the property `weights.grad` on the weights/variables in the direction that minimizes the loss function. It only gets updated once the `optimizer.step()` function is executed on the optimizer"
   ]
  },
  {
   "cell_type": "code",
   "execution_count": 12,
   "metadata": {},
   "outputs": [
    {
     "name": "stdout",
     "output_type": "stream",
     "text": [
      "tensor([-0.0502, -0.0929,  0.0563,  0.0523, -0.0152, -0.0272,  0.0250,  0.0673,\n",
      "        -0.0963], grad_fn=<SliceBackward0>)\n",
      "tensor([ 2.3373,  2.4710,  1.3426,  0.3748,  1.4493, -3.8485, -0.7343,  0.8522,\n",
      "        -1.7080])\n"
     ]
    }
   ],
   "source": [
    "loss.backward()\n",
    "print(model.layer2.weight[1][1:10])\n",
    "print(model.layer2.weight.grad[1][1:10])"
   ]
  },
  {
   "cell_type": "code",
   "execution_count": 13,
   "metadata": {},
   "outputs": [
    {
     "name": "stdout",
     "output_type": "stream",
     "text": [
      "tensor([-0.0526, -0.0954,  0.0549,  0.0519, -0.0167, -0.0234,  0.0257,  0.0664,\n",
      "        -0.0946], grad_fn=<SliceBackward0>)\n",
      "tensor([ 2.3373,  2.4710,  1.3426,  0.3748,  1.4493, -3.8485, -0.7343,  0.8522,\n",
      "        -1.7080])\n"
     ]
    }
   ],
   "source": [
    "optimizer.step()\n",
    "print(model.layer2.weight[1][1:10])\n",
    "print(model.layer2.weight.grad[1][1:10])"
   ]
  },
  {
   "cell_type": "markdown",
   "metadata": {},
   "source": [
    "After the update, it is necessary to \"clear\" the grad values, to avoid accumulation of the values. For this purpose use the function `optimizer.zero_ grad()`"
   ]
  },
  {
   "cell_type": "code",
   "execution_count": 14,
   "metadata": {},
   "outputs": [
    {
     "name": "stdout",
     "output_type": "stream",
     "text": [
      "tensor([-0.0526, -0.0954,  0.0549,  0.0519, -0.0167, -0.0234,  0.0257,  0.0664,\n",
      "        -0.0946], grad_fn=<SliceBackward0>)\n",
      "tensor([0., 0., 0., 0., 0., 0., 0., 0., 0.])\n"
     ]
    }
   ],
   "source": [
    "optimizer.zero_grad()\n",
    "print(model.layer2.weight[1][1:10])\n",
    "print(model.layer2.weight.grad[1][1:10])"
   ]
  },
  {
   "cell_type": "markdown",
   "metadata": {},
   "source": [
    "## Turning ON/OFF Autograd"
   ]
  },
  {
   "cell_type": "code",
   "execution_count": 16,
   "metadata": {},
   "outputs": [
    {
     "name": "stdout",
     "output_type": "stream",
     "text": [
      "tensor([[4., 4., 4.],\n",
      "        [4., 4., 4.]], grad_fn=<AddBackward0>)\n",
      "tensor([[4., 4., 4.],\n",
      "        [4., 4., 4.]])\n"
     ]
    }
   ],
   "source": [
    "a = torch.ones(2,3, requires_grad = True)*2\n",
    "b = torch.ones(2,3, requires_grad = True)*2\n",
    "\n",
    "c1 = a + b\n",
    "\n",
    "#use the context as with\n",
    "with torch.no_grad():\n",
    "    c2 = a + b\n",
    "    \n",
    "print(c1)\n",
    "print(c2)"
   ]
  },
  {
   "cell_type": "markdown",
   "metadata": {},
   "source": [
    "`torch.no_grad()` can be used as a function decorator. Same canbe done with `torch.enable_grad()`"
   ]
  },
  {
   "cell_type": "code",
   "execution_count": 19,
   "metadata": {},
   "outputs": [
    {
     "name": "stdout",
     "output_type": "stream",
     "text": [
      "tensor([[4., 4., 4.],\n",
      "        [4., 4., 4.]], grad_fn=<AddBackward0>)\n",
      "tensor([[4., 4., 4.],\n",
      "        [4., 4., 4.]])\n"
     ]
    }
   ],
   "source": [
    "def add_tensors1(x,y):\n",
    "    return x + y\n",
    "\n",
    "@torch.no_grad()\n",
    "def add_tensors2(x,y):\n",
    "    return x + y\n",
    "\n",
    "d1 = add_tensors1(a,b)\n",
    "d2 = add_tensors2(a,b)\n",
    "\n",
    "print(d1)\n",
    "print(d2)\n",
    "\n"
   ]
  },
  {
   "cell_type": "markdown",
   "metadata": {},
   "source": [
    " The function `detach()` creates a copy of the tensor that is *detached* from the computation history. This is usefull when a tensor needs to be converted to a NumPy array. The tensors with `requires_grad = True` are not enabled to be transformed"
   ]
  },
  {
   "cell_type": "code",
   "execution_count": 20,
   "metadata": {},
   "outputs": [
    {
     "name": "stdout",
     "output_type": "stream",
     "text": [
      "tensor([[2., 2., 2.],\n",
      "        [2., 2., 2.]], grad_fn=<MulBackward0>)\n",
      "tensor([[2., 2., 2.],\n",
      "        [2., 2., 2.]])\n"
     ]
    }
   ],
   "source": [
    "print(a)\n",
    "print(a.detach())"
   ]
  }
 ],
 "metadata": {
  "kernelspec": {
   "display_name": "pytorch",
   "language": "python",
   "name": "pytorch"
  },
  "language_info": {
   "codemirror_mode": {
    "name": "ipython",
    "version": 3
   },
   "file_extension": ".py",
   "mimetype": "text/x-python",
   "name": "python",
   "nbconvert_exporter": "python",
   "pygments_lexer": "ipython3",
   "version": "3.9.7"
  }
 },
 "nbformat": 4,
 "nbformat_minor": 4
}
