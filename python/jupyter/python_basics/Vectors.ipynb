{
 "cells": [
  {
   "cell_type": "code",
   "execution_count": 22,
   "id": "317492e3",
   "metadata": {},
   "outputs": [],
   "source": [
    "import numpy as np\n",
    "a = np.random.randn(5)\n"
   ]
  },
  {
   "cell_type": "markdown",
   "id": "decd4c11",
   "metadata": {},
   "source": [
    "## Transpose of a numpy vector:\n",
    "* `a.T`\n"
   ]
  },
  {
   "cell_type": "code",
   "execution_count": 24,
   "id": "4c6e6f65",
   "metadata": {},
   "outputs": [
    {
     "name": "stdout",
     "output_type": "stream",
     "text": [
      "[ 0.14840318 -1.04547869  0.54938647  0.87069794  1.13557367]\n",
      "(5,)\n"
     ]
    }
   ],
   "source": [
    "print(a.T)\n",
    "print(a.shape)"
   ]
  },
  {
   "cell_type": "markdown",
   "id": "a6f40b38",
   "metadata": {},
   "source": [
    "### Be explicit with the definitions of the vectors to avoid dimensions issues\n",
    "note that the previous vector `a` has a shape (5,) that is not clear if it is a column or row vector"
   ]
  },
  {
   "cell_type": "code",
   "execution_count": 25,
   "id": "9720901c",
   "metadata": {},
   "outputs": [
    {
     "name": "stdout",
     "output_type": "stream",
     "text": [
      "3.4645171407612727\n",
      "3.4645171407612727\n"
     ]
    }
   ],
   "source": [
    "print(np.dot(a,a.T))\n",
    "print(np.dot(a.T,a))"
   ]
  },
  {
   "cell_type": "markdown",
   "id": "136c98b6",
   "metadata": {},
   "source": [
    "Note that the prevous result throughs the same result for both operations, where in the first case should have been a 5x5 matrix and the second case a scalar\n",
    "\n",
    "Try this better:"
   ]
  },
  {
   "cell_type": "code",
   "execution_count": 26,
   "id": "99dfa059",
   "metadata": {},
   "outputs": [
    {
     "name": "stdout",
     "output_type": "stream",
     "text": [
      "5x5 Matrix:\n",
      "[[ 0.0220235  -0.15515236  0.0815307   0.12921434  0.16852274]\n",
      " [-0.15515236  1.09302569 -0.57437184 -0.91029614 -1.18721807]\n",
      " [ 0.0815307  -0.57437184  0.30182549  0.47834966  0.6238688 ]\n",
      " [ 0.12921434 -0.91029614  0.47834966  0.7581149   0.98874166]\n",
      " [ 0.16852274 -1.18721807  0.6238688   0.98874166  1.28952756]]\n",
      "scalar (1x1 matrix):\n",
      "[[3.46451714]]\n"
     ]
    }
   ],
   "source": [
    "a = a.reshape(5,1)\n",
    "print(\"5x5 Matrix:\")\n",
    "print(np.dot(a,a.T))\n",
    "print(\"scalar (1x1 matrix):\")\n",
    "print(np.dot(a.T,a))"
   ]
  }
 ],
 "metadata": {
  "kernelspec": {
   "display_name": "Python 3 (ipykernel)",
   "language": "python",
   "name": "python3"
  },
  "language_info": {
   "codemirror_mode": {
    "name": "ipython",
    "version": 3
   },
   "file_extension": ".py",
   "mimetype": "text/x-python",
   "name": "python",
   "nbconvert_exporter": "python",
   "pygments_lexer": "ipython3",
   "version": "3.8.10"
  }
 },
 "nbformat": 4,
 "nbformat_minor": 5
}
