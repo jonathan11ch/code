{
 "cells": [
  {
   "cell_type": "code",
   "execution_count": 107,
   "id": "0d27a972",
   "metadata": {},
   "outputs": [],
   "source": [
    "import numpy as np"
   ]
  },
  {
   "cell_type": "markdown",
   "id": "644596a6",
   "metadata": {},
   "source": [
    "$$A \\in\\mathbb{R}^{n\\times m}$$"
   ]
  },
  {
   "cell_type": "code",
   "execution_count": 47,
   "id": "694ea961",
   "metadata": {},
   "outputs": [
    {
     "name": "stdout",
     "output_type": "stream",
     "text": [
      "<class 'numpy.ndarray'>\n",
      "(4, 1)\n"
     ]
    }
   ],
   "source": [
    "a= np.array([1,2,3,4]).reshape(4,1) #remember to reshape to be explicit with the dimensions\n",
    "print(type(a))\n",
    "print(a.shape)"
   ]
  },
  {
   "cell_type": "markdown",
   "id": "b7ecc9fb",
   "metadata": {},
   "source": [
    "### Indexing elements\n",
    "Indexes start from zero\n",
    "\n",
    "* `a[i][j]` or `a[i,j]` where i: row index and j: column index\n",
    "* `a[:,j]` get column j \n",
    "* `a[i,:]` get row j\n"
   ]
  },
  {
   "cell_type": "code",
   "execution_count": 79,
   "id": "048ec121",
   "metadata": {},
   "outputs": [
    {
     "name": "stdout",
     "output_type": "stream",
     "text": [
      "1\n",
      "2\n",
      "3\n",
      "4\n",
      "[[1 2 3]]\n"
     ]
    }
   ],
   "source": [
    "print(a[0][0])\n",
    "print(a[1][0])\n",
    "print(a[2][0])\n",
    "print(a[3][0])\n",
    "print(a[0:3].T)  # from zero to 3 excluding 3"
   ]
  },
  {
   "cell_type": "code",
   "execution_count": 89,
   "id": "93feb595",
   "metadata": {},
   "outputs": [
    {
     "name": "stdout",
     "output_type": "stream",
     "text": [
      "[[-3.73784448e-01  6.13746378e-01 -4.51442986e-01]\n",
      " [-9.70245230e-04 -9.50386592e-01  1.83060232e+00]\n",
      " [ 5.31191312e-02 -4.76788419e-01  6.43895896e-01]]\n",
      "(3, 3)\n",
      "0.6438958959648515\n",
      "[-0.45144299  1.83060232  0.6438959 ]\n",
      "[ 0.05311913 -0.47678842  0.6438959 ]\n"
     ]
    }
   ],
   "source": [
    "b = np.random.randn(3,3)\n",
    "print(b)\n",
    "print(b.shape)\n",
    "print(b[2,2])\n",
    "print(b[:,2]) #get column 2\n",
    "print(b[2,:]) #get row 2"
   ]
  },
  {
   "cell_type": "markdown",
   "id": "2ab92207",
   "metadata": {},
   "source": [
    "### Modify elements of an array"
   ]
  },
  {
   "cell_type": "code",
   "execution_count": 94,
   "id": "2c5775b7",
   "metadata": {},
   "outputs": [
    {
     "name": "stdout",
     "output_type": "stream",
     "text": [
      "[[-3.73784448e-01  6.13746378e-01 -4.51442986e-01]\n",
      " [-9.70245230e-04  5.00000000e+03  1.83060232e+00]\n",
      " [ 5.31191312e-02 -4.76788419e-01  6.43895896e-01]]\n"
     ]
    }
   ],
   "source": [
    "b[1,1] = 5000\n",
    "print(b)"
   ]
  },
  {
   "cell_type": "markdown",
   "id": "79665b8a",
   "metadata": {},
   "source": [
    "### Special Default matrices\n",
    "* Indentity matrix : `np.eye(m,n)`\n",
    "* Zero matrix      : `np.zeros((m,n))`\n",
    "* Ones Matrix      : `np.ones((m,n))`\n",
    "* Fill Matrix      : `np.full((m,n), val, dtype= type)`"
   ]
  },
  {
   "cell_type": "code",
   "execution_count": 102,
   "id": "ac31bec4",
   "metadata": {},
   "outputs": [
    {
     "name": "stdout",
     "output_type": "stream",
     "text": [
      "[[1. 0. 0.]\n",
      " [0. 1. 0.]\n",
      " [0. 0. 1.]]\n"
     ]
    }
   ],
   "source": [
    "I = np.eye(3,3)\n",
    "print(I)"
   ]
  },
  {
   "cell_type": "code",
   "execution_count": 99,
   "id": "58c6d6e0",
   "metadata": {},
   "outputs": [
    {
     "name": "stdout",
     "output_type": "stream",
     "text": [
      "[[0. 0. 0.]\n",
      " [0. 0. 0.]\n",
      " [0. 0. 0.]]\n"
     ]
    }
   ],
   "source": [
    "Z = np.zeros((3,3))\n",
    "print(Z)"
   ]
  },
  {
   "cell_type": "code",
   "execution_count": 104,
   "id": "172abaa6",
   "metadata": {},
   "outputs": [
    {
     "name": "stdout",
     "output_type": "stream",
     "text": [
      "[[1. 1. 1.]\n",
      " [1. 1. 1.]\n",
      " [1. 1. 1.]]\n"
     ]
    }
   ],
   "source": [
    "Ones = np.ones((3,3))\n",
    "print(Ones)"
   ]
  },
  {
   "cell_type": "code",
   "execution_count": 108,
   "id": "21300d46",
   "metadata": {},
   "outputs": [
    {
     "name": "stdout",
     "output_type": "stream",
     "text": [
      "[[5 5 5]\n",
      " [5 5 5]\n",
      " [5 5 5]]\n"
     ]
    }
   ],
   "source": [
    "C = np.full((3,3),5)\n",
    "print(C)"
   ]
  },
  {
   "cell_type": "markdown",
   "id": "e96c5a52",
   "metadata": {},
   "source": [
    "### Random array and computing mean and std"
   ]
  },
  {
   "cell_type": "code",
   "execution_count": 157,
   "id": "1f36964b",
   "metadata": {},
   "outputs": [
    {
     "name": "stdout",
     "output_type": "stream",
     "text": [
      "[[ 0.22010524 -0.39871654  0.38670938]\n",
      " [ 1.12802231 -2.43284873 -1.07960891]\n",
      " [-0.88544058  0.08957221 -0.62504082]]\n",
      "-0.39969404910226713\n",
      "0.969456564824154\n"
     ]
    }
   ],
   "source": [
    "R = np.random.randn(3,3)\n",
    "print(R)\n",
    "print(np.mean(R))\n",
    "print(np.std(R))"
   ]
  },
  {
   "cell_type": "code",
   "execution_count": 161,
   "id": "a30fdd6b",
   "metadata": {},
   "outputs": [
    {
     "name": "stdout",
     "output_type": "stream",
     "text": [
      "[ 0.06936603 -0.79481178 -0.4736364 ]\n",
      "[0.33790058 1.46760183 0.41219329]\n"
     ]
    }
   ],
   "source": [
    "print(np.mean(R, axis=1))  #specify the axis to compute the mean and std\n",
    "print(np.std(R,axis=1))"
   ]
  },
  {
   "cell_type": "markdown",
   "id": "da206537",
   "metadata": {},
   "source": [
    "### Array dtype\n",
    "* `a.dtype`"
   ]
  },
  {
   "cell_type": "code",
   "execution_count": 165,
   "id": "fa0f16ce",
   "metadata": {},
   "outputs": [
    {
     "name": "stdout",
     "output_type": "stream",
     "text": [
      "float64\n",
      "int64\n"
     ]
    }
   ],
   "source": [
    "print(R.dtype)\n",
    "print(a.dtype)"
   ]
  },
  {
   "cell_type": "markdown",
   "id": "296ddd84",
   "metadata": {},
   "source": [
    "# Matrix Operations\n",
    "* `A+B` or `np.add(A,B, dtype = int)`, the advanatge of using the last method is that the datatype can be defined\n",
    "* `A-B` or `np.sustract(A,B, dtype = int)`"
   ]
  },
  {
   "cell_type": "code",
   "execution_count": 174,
   "id": "7db3c6cb",
   "metadata": {},
   "outputs": [
    {
     "name": "stdout",
     "output_type": "stream",
     "text": [
      "[[6 6 6]\n",
      " [6 6 6]\n",
      " [6 6 6]]\n",
      "[[6. 6. 6.]\n",
      " [6. 6. 6.]\n",
      " [6. 6. 6.]]\n"
     ]
    },
    {
     "data": {
      "text/plain": [
       "array([[2, 2, 2],\n",
       "       [2, 2, 2],\n",
       "       [2, 2, 2]])"
      ]
     },
     "execution_count": 174,
     "metadata": {},
     "output_type": "execute_result"
    }
   ],
   "source": [
    "A = np.full((3,3),4,dtype=int)\n",
    "B = np.full((3,3),2)\n",
    "#Addition\n",
    "A + B\n",
    "np.add(A,B, dtype=float)\n",
    "#substraction\n",
    "A-B\n",
    "np.subtract(A,B, dtype = int)"
   ]
  },
  {
   "cell_type": "code",
   "execution_count": null,
   "id": "9522183b",
   "metadata": {},
   "outputs": [],
   "source": []
  }
 ],
 "metadata": {
  "kernelspec": {
   "display_name": "Python 3 (ipykernel)",
   "language": "python",
   "name": "python3"
  },
  "language_info": {
   "codemirror_mode": {
    "name": "ipython",
    "version": 3
   },
   "file_extension": ".py",
   "mimetype": "text/x-python",
   "name": "python",
   "nbconvert_exporter": "python",
   "pygments_lexer": "ipython3",
   "version": "3.8.10"
  }
 },
 "nbformat": 4,
 "nbformat_minor": 5
}
