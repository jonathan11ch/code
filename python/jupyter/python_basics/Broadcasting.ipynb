{
 "cells": [
  {
   "cell_type": "markdown",
   "id": "8edc8b4f",
   "metadata": {},
   "source": [
    "# Numpy Broadcastig\n"
   ]
  },
  {
   "cell_type": "code",
   "execution_count": 2,
   "id": "1a4d26bb",
   "metadata": {
    "scrolled": true
   },
   "outputs": [
    {
     "data": {
      "text/plain": [
       "array([[ 56. ,   1.2,   1.8],\n",
       "       [  0. , 104. , 135. ],\n",
       "       [  4.4,  52. ,  99. ],\n",
       "       [ 68. ,   8. ,   0.9]])"
      ]
     },
     "execution_count": 2,
     "metadata": {},
     "output_type": "execute_result"
    }
   ],
   "source": [
    "import numpy as np\n",
    "A = np.array([[56.0,0.0,4.4,68.0],\n",
    "              [1.2,104.0,52.0,8.0],\n",
    "              [1.8,135.0,99.0,0.9]])\n",
    "A.T"
   ]
  },
  {
   "cell_type": "markdown",
   "id": "4e7bb7c1",
   "metadata": {},
   "source": [
    "### Broadcasting occured in this operation\n",
    "` percentage =  100*A/Cal.reshape(1,4)`"
   ]
  },
  {
   "cell_type": "code",
   "execution_count": 3,
   "id": "247c2f6a",
   "metadata": {},
   "outputs": [
    {
     "data": {
      "text/plain": [
       "array([[94.91525424,  0.        ,  2.83140283, 88.42652796],\n",
       "       [ 2.03389831, 43.51464435, 33.46203346, 10.40312094],\n",
       "       [ 3.05084746, 56.48535565, 63.70656371,  1.17035111]])"
      ]
     },
     "execution_count": 3,
     "metadata": {},
     "output_type": "execute_result"
    }
   ],
   "source": [
    "Cal = A.sum(axis=0) #axis 0 is row sum \n",
    "percentage =  100*A/Cal.reshape(1,4)  #reshape is just to be explicit\n",
    "percentage"
   ]
  },
  {
   "cell_type": "markdown",
   "id": "335bb20c",
   "metadata": {},
   "source": [
    "### Other example of broadcasting\n",
    "Adding a `s` scalar to a matrix `A`, where the scalar is broadcasted to all components of the matrix"
   ]
  },
  {
   "cell_type": "code",
   "execution_count": 6,
   "id": "a2487ed3",
   "metadata": {},
   "outputs": [
    {
     "data": {
      "text/plain": [
       "array([[5., 5., 5., 5.],\n",
       "       [5., 5., 5., 5.],\n",
       "       [5., 5., 5., 5.]])"
      ]
     },
     "execution_count": 6,
     "metadata": {},
     "output_type": "execute_result"
    }
   ],
   "source": [
    "b = 5\n",
    "B =  A + b\n",
    "B-A"
   ]
  },
  {
   "cell_type": "markdown",
   "id": "bcb43cf3",
   "metadata": {},
   "source": [
    "## General Rule \n",
    "* Matrix `(m,n)  +-*/ (1,n)` -> broadcasted as `(m,n)` and operated element-wise\n",
    "* Matrix `(m,n)  +-*/ (m,1)` -> broadcasted as `(m,n)` and operated element-wise\n"
   ]
  }
 ],
 "metadata": {
  "kernelspec": {
   "display_name": "Python 3 (ipykernel)",
   "language": "python",
   "name": "python3"
  },
  "language_info": {
   "codemirror_mode": {
    "name": "ipython",
    "version": 3
   },
   "file_extension": ".py",
   "mimetype": "text/x-python",
   "name": "python",
   "nbconvert_exporter": "python",
   "pygments_lexer": "ipython3",
   "version": "3.8.10"
  }
 },
 "nbformat": 4,
 "nbformat_minor": 5
}
