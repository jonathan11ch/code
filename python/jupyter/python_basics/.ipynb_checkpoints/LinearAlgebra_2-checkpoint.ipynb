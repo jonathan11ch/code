{
 "cells": [
  {
   "cell_type": "markdown",
   "id": "d88b95d8",
   "metadata": {},
   "source": [
    "# Matrix Operations"
   ]
  },
  {
   "cell_type": "code",
   "execution_count": 10,
   "id": "70abe4e8",
   "metadata": {},
   "outputs": [
    {
     "name": "stdout",
     "output_type": "stream",
     "text": [
      "[[-0.47353891 -0.29147089  1.26990881]\n",
      " [ 0.77153763  1.42715284 -1.30124337]\n",
      " [-0.07690577  0.56552192 -0.59523099]]\n",
      "[[ 0.19587713  0.30817735  1.08664414]\n",
      " [-1.83295342  1.34652823 -1.08791685]\n",
      " [ 0.23440662 -2.37664407 -0.40149488]]\n"
     ]
    }
   ],
   "source": [
    "import numpy as np\n",
    "A = np.random.randn(3,3)\n",
    "B = np.random.randn(3,3)\n",
    "print(A)\n",
    "print(B)"
   ]
  },
  {
   "cell_type": "markdown",
   "id": "38da9c68",
   "metadata": {},
   "source": [
    "### Pointwise Multiplication and Division:\n",
    "* `C = A*B` or `np.multiply(A,B,dtype =type)`\n",
    "* `C = A/B` or `np.divide(A,B,dtype=type)`\n",
    "    "
   ]
  },
  {
   "cell_type": "code",
   "execution_count": 19,
   "id": "87f2906a",
   "metadata": {},
   "outputs": [
    {
     "data": {
      "text/plain": [
       "array([[ 1.79950693e-05,  1.90229627e-05,  5.61616831e-05],\n",
       "       [-1.30035995e-04,  8.03156041e-04,  6.05518080e-04],\n",
       "       [-6.59173333e-06, -2.94320356e-04, -3.14743896e-05]])"
      ]
     },
     "execution_count": 19,
     "metadata": {},
     "output_type": "execute_result"
    }
   ],
   "source": [
    "C = A*B\n",
    "C1 = np.multiply(A,B,dtype = np.float16)\n",
    "C-C1"
   ]
  },
  {
   "cell_type": "code",
   "execution_count": 15,
   "id": "eaf3c9d2",
   "metadata": {},
   "outputs": [
    {
     "data": {
      "text/plain": [
       "array([[0., 0., 0.],\n",
       "       [0., 0., 0.],\n",
       "       [0., 0., 0.]])"
      ]
     },
     "execution_count": 15,
     "metadata": {},
     "output_type": "execute_result"
    }
   ],
   "source": [
    "C = A/B\n",
    "C1 = np.divide(A,B)\n",
    "C-C1"
   ]
  },
  {
   "cell_type": "markdown",
   "id": "0e81303b",
   "metadata": {},
   "source": [
    "### Matrix Multiplication\n",
    "* `np.matmul(A,B)`\n",
    "$$C= AB$$\n",
    "where $A\\in\\mathbb{R}^{M\\times N}, B\\in\\mathbb{R}^{N\\times M}$ the product is defined as\n",
    "$$C_{i,j} = \\sum_{k=1}^N A_{i,k}B_{k,j}$$"
   ]
  },
  {
   "cell_type": "code",
   "execution_count": 91,
   "id": "f4bd5f78",
   "metadata": {},
   "outputs": [],
   "source": [
    "A = np.array([[3,8],\n",
    "              [-1,4]])\n",
    "B = np.array([[4,5],\n",
    "              [6,7]])"
   ]
  },
  {
   "cell_type": "code",
   "execution_count": 85,
   "id": "b9e3213b",
   "metadata": {},
   "outputs": [
    {
     "data": {
      "text/plain": [
       "array([[60, 71],\n",
       "       [28, 33]])"
      ]
     },
     "execution_count": 85,
     "metadata": {},
     "output_type": "execute_result"
    }
   ],
   "source": [
    "np.matmul(A,B)"
   ]
  },
  {
   "cell_type": "markdown",
   "id": "4f275141",
   "metadata": {},
   "source": [
    "### Dot Product\n",
    "* `np.dot(A,B)` or `np.inner(A,B)`\n",
    "$$<a,b> = a^Tb=\\sum_{i=1}^na_ib_i$$"
   ]
  },
  {
   "cell_type": "code",
   "execution_count": 86,
   "id": "01a4d425",
   "metadata": {},
   "outputs": [
    {
     "data": {
      "text/plain": [
       "array([[60, 71],\n",
       "       [28, 33]])"
      ]
     },
     "execution_count": 86,
     "metadata": {},
     "output_type": "execute_result"
    }
   ],
   "source": [
    "np.dot(A,B)"
   ]
  },
  {
   "cell_type": "code",
   "execution_count": 87,
   "id": "e89898b1",
   "metadata": {},
   "outputs": [
    {
     "data": {
      "text/plain": [
       "array([[60, 71],\n",
       "       [28, 33]])"
      ]
     },
     "execution_count": 87,
     "metadata": {},
     "output_type": "execute_result"
    }
   ],
   "source": [
    "np.inner(A,B.T)"
   ]
  },
  {
   "cell_type": "code",
   "execution_count": 88,
   "id": "80f1ffb5",
   "metadata": {},
   "outputs": [
    {
     "name": "stdout",
     "output_type": "stream",
     "text": [
      "[[1 2 3]\n",
      " [2 4 6]\n",
      " [3 6 9]]\n",
      "[[14]]\n",
      "[[14]]\n"
     ]
    }
   ],
   "source": [
    "a = np.array([1,2,3]).reshape(3,1)\n",
    "b = np.array([1,2,3]).reshape(1,3)\n",
    "print(np.dot(a,b))\n",
    "print(np.dot(b,a))\n",
    "print(np.inner(a.T,b))"
   ]
  },
  {
   "cell_type": "markdown",
   "id": "1ce37300",
   "metadata": {},
   "source": [
    "### Matrix Power\n",
    "* `np.linalg.matrix_power(A,n)`\n",
    "$$A^n= A\\cdot A\\cdots A$$"
   ]
  },
  {
   "cell_type": "raw",
   "id": "5c4a2790",
   "metadata": {},
   "source": [
    "np.linalg.matrix_power(A,6)"
   ]
  },
  {
   "cell_type": "markdown",
   "id": "7a68d72b",
   "metadata": {},
   "source": [
    "### Kronecher Product\n",
    "* `np.kron(A,B)`\n",
    "$$A\\otimes B$$"
   ]
  },
  {
   "cell_type": "code",
   "execution_count": 89,
   "id": "c2fa9d49",
   "metadata": {},
   "outputs": [
    {
     "data": {
      "text/plain": [
       "array([[12, 15, 32, 40],\n",
       "       [18, 21, 48, 56],\n",
       "       [ 4,  5, 16, 20],\n",
       "       [ 6,  7, 24, 28]])"
      ]
     },
     "execution_count": 89,
     "metadata": {},
     "output_type": "execute_result"
    }
   ],
   "source": [
    "np.kron(A,B)"
   ]
  },
  {
   "cell_type": "markdown",
   "id": "bfbf3495",
   "metadata": {},
   "source": [
    "# Matrix Decompositions"
   ]
  },
  {
   "cell_type": "markdown",
   "id": "beb01c9c",
   "metadata": {},
   "source": [
    "## Cholesky Decomposition\n",
    "* `np.linalg.cholesky(A)`\n",
    "$$A = UU^H$$"
   ]
  },
  {
   "cell_type": "code",
   "execution_count": 102,
   "id": "5d5fc6e1",
   "metadata": {},
   "outputs": [
    {
     "data": {
      "text/plain": [
       "array([[7.21110255, 0.        ],\n",
       "       [8.59785304, 0.2773501 ]])"
      ]
     },
     "execution_count": 102,
     "metadata": {},
     "output_type": "execute_result"
    }
   ],
   "source": [
    "np.linalg.cholesky(np.dot(B.T,B))"
   ]
  },
  {
   "cell_type": "code",
   "execution_count": 114,
   "id": "a785b10c",
   "metadata": {},
   "outputs": [
    {
     "name": "stdout",
     "output_type": "stream",
     "text": [
      "[[10 20]\n",
      " [20 80]]\n"
     ]
    }
   ],
   "source": [
    "A = np.array([[3,8],\n",
    "              [-1,4]])\n",
    "A = np.dot(A.T,A)\n",
    "print(A)"
   ]
  },
  {
   "cell_type": "code",
   "execution_count": 105,
   "id": "37a11ec7",
   "metadata": {},
   "outputs": [
    {
     "data": {
      "text/plain": [
       "array([ 4.68871126, 85.31128874])"
      ]
     },
     "execution_count": 105,
     "metadata": {},
     "output_type": "execute_result"
    }
   ],
   "source": [
    "np.linalg.eigvals(A)"
   ]
  },
  {
   "cell_type": "code",
   "execution_count": 107,
   "id": "1d3fff1e",
   "metadata": {},
   "outputs": [
    {
     "data": {
      "text/plain": [
       "18.19503996683587"
      ]
     },
     "execution_count": 107,
     "metadata": {},
     "output_type": "execute_result"
    }
   ],
   "source": [
    "np.linalg.cond(A)"
   ]
  },
  {
   "cell_type": "code",
   "execution_count": 109,
   "id": "bc5807f3",
   "metadata": {},
   "outputs": [
    {
     "data": {
      "text/plain": [
       "399.9999999999999"
      ]
     },
     "execution_count": 109,
     "metadata": {},
     "output_type": "execute_result"
    }
   ],
   "source": [
    "np.linalg.det(A)"
   ]
  },
  {
   "cell_type": "code",
   "execution_count": 112,
   "id": "96fb5437",
   "metadata": {},
   "outputs": [
    {
     "data": {
      "text/plain": [
       "2"
      ]
     },
     "execution_count": 112,
     "metadata": {},
     "output_type": "execute_result"
    }
   ],
   "source": [
    "np.linalg.matrix_rank(A)"
   ]
  },
  {
   "cell_type": "code",
   "execution_count": 120,
   "id": "280bb66a",
   "metadata": {},
   "outputs": [
    {
     "data": {
      "text/plain": [
       "90"
      ]
     },
     "execution_count": 120,
     "metadata": {},
     "output_type": "execute_result"
    }
   ],
   "source": [
    "np.trace(A)"
   ]
  },
  {
   "cell_type": "markdown",
   "id": "670e73db",
   "metadata": {},
   "source": [
    "## Solving linear equations of the form\n",
    "$$Ax = b$$\n",
    "* `np.linalg.solve(A,b)`\n",
    "* `np.linalg.inv(A) dot b` :  $x = A^{-1}b$\n",
    "* `np.linalg.pinv(A) dot b`:  $x = A^{+}b$    with pseudoinverse pinv"
   ]
  },
  {
   "cell_type": "code",
   "execution_count": 118,
   "id": "1fe932d7",
   "metadata": {},
   "outputs": [
    {
     "data": {
      "text/plain": [
       "array([ 0.1, -0. ])"
      ]
     },
     "execution_count": 118,
     "metadata": {},
     "output_type": "execute_result"
    }
   ],
   "source": [
    "b = np.array([1,2])\n",
    "np.linalg.solve(A,b)"
   ]
  },
  {
   "cell_type": "code",
   "execution_count": 121,
   "id": "e8cf5ac1",
   "metadata": {},
   "outputs": [
    {
     "data": {
      "text/plain": [
       "array([0.1, 0. ])"
      ]
     },
     "execution_count": 121,
     "metadata": {},
     "output_type": "execute_result"
    }
   ],
   "source": [
    "np.dot(np.linalg.inv(A),b)"
   ]
  },
  {
   "cell_type": "code",
   "execution_count": 122,
   "id": "b2ce56af",
   "metadata": {},
   "outputs": [
    {
     "data": {
      "text/plain": [
       "array([ 1.0000000e-01, -6.9388939e-18])"
      ]
     },
     "execution_count": 122,
     "metadata": {},
     "output_type": "execute_result"
    }
   ],
   "source": [
    "np.dot(np.linalg.pinv(A),b)"
   ]
  }
 ],
 "metadata": {
  "kernelspec": {
   "display_name": "Python 3 (ipykernel)",
   "language": "python",
   "name": "python3"
  },
  "language_info": {
   "codemirror_mode": {
    "name": "ipython",
    "version": 3
   },
   "file_extension": ".py",
   "mimetype": "text/x-python",
   "name": "python",
   "nbconvert_exporter": "python",
   "pygments_lexer": "ipython3",
   "version": "3.8.10"
  }
 },
 "nbformat": 4,
 "nbformat_minor": 5
}
