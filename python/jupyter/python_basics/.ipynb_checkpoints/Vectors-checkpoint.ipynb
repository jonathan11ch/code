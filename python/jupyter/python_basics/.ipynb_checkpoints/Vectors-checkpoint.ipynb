{
 "cells": [
  {
   "cell_type": "code",
   "execution_count": 2,
   "id": "7a0fb80b",
   "metadata": {},
   "outputs": [],
   "source": [
    "import numpy as np\n",
    "a = np.random.randn(5)"
   ]
  },
  {
   "cell_type": "code",
   "execution_count": 9,
   "id": "e507431c",
   "metadata": {},
   "outputs": [
    {
     "name": "stdout",
     "output_type": "stream",
     "text": [
      "(5,)\n"
     ]
    }
   ],
   "source": [
    "print(a.shape)"
   ]
  },
  {
   "cell_type": "markdown",
   "id": "3c3acab0",
   "metadata": {},
   "source": [
    "### Be explicit with the definitions of the vectors to avoid dimensions issues\n",
    "note that the previous vector `a` has a shape (5,) that is not clear if it is a column or row vector"
   ]
  },
  {
   "cell_type": "code",
   "execution_count": 10,
   "id": "4665000d",
   "metadata": {},
   "outputs": [
    {
     "name": "stdout",
     "output_type": "stream",
     "text": [
      "6.845813767282886\n",
      "6.845813767282886\n"
     ]
    }
   ],
   "source": [
    "print(np.dot(a,a.T))\n",
    "print(np.dot(a.T,a))"
   ]
  },
  {
   "cell_type": "markdown",
   "id": "d0f4fa1f",
   "metadata": {},
   "source": [
    "Note that the prevous result throughs the same result for both operations, where in the first case should have been a 5x5 matrix and the second case a scalar\n",
    "\n",
    "Try this better:"
   ]
  },
  {
   "cell_type": "code",
   "execution_count": 20,
   "id": "5cd4324e",
   "metadata": {},
   "outputs": [
    {
     "name": "stdout",
     "output_type": "stream",
     "text": [
      "5x5 Matrix:\n",
      "[[ 0.66883867 -1.47813382  1.22400167 -0.56419724  0.36058508]\n",
      " [-1.47813382  3.26667654 -2.70504436  1.24687619 -0.79689322]\n",
      " [ 1.22400167 -2.70504436  2.2399723  -1.03250364  0.6598852 ]\n",
      " [-0.56419724  1.24687619 -1.03250364  0.47592721 -0.30417067]\n",
      " [ 0.36058508 -0.79689322  0.6598852  -0.30417067  0.19439904]]\n",
      "scalar (1x1 matrix):\n",
      "[[6.84581377]]\n"
     ]
    }
   ],
   "source": [
    "a = a.reshape(5,1)\n",
    "print(\"5x5 Matrix:\")\n",
    "print(np.dot(a,a.T))\n",
    "print(\"scalar (1x1 matrix):\")\n",
    "print(np.dot(a.T,a))"
   ]
  }
 ],
 "metadata": {
  "kernelspec": {
   "display_name": "Python 3 (ipykernel)",
   "language": "python",
   "name": "python3"
  },
  "language_info": {
   "codemirror_mode": {
    "name": "ipython",
    "version": 3
   },
   "file_extension": ".py",
   "mimetype": "text/x-python",
   "name": "python",
   "nbconvert_exporter": "python",
   "pygments_lexer": "ipython3",
   "version": "3.8.10"
  }
 },
 "nbformat": 4,
 "nbformat_minor": 5
}
