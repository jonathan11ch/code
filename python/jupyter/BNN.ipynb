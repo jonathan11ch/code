{
 "cells": [
  {
   "cell_type": "code",
   "execution_count": 5,
   "metadata": {},
   "outputs": [
    {
     "data": {
      "text/plain": [
       "0.8"
      ]
     },
     "execution_count": 5,
     "metadata": {},
     "output_type": "execute_result"
    }
   ],
   "source": [
    "\n",
    "#[HE,HA,O]\n",
    "robot_expression={\n",
    "    ('H','R','S','H'):0.8,\n",
    "    ('H','R','S','H'):0.8,\n",
    "    ('H','R','S','H'):0.8,\n",
    "    ('H','R','S','H'):0.8,\n",
    "    ('H','R','S','H'):0.8\n",
    "}\n",
    "#robot_expression['H','R','S','H']\n",
    "\n",
    "\n",
    "#A priori probablities\n",
    "def f_HE(HE):\n",
    "    return 0.333\n",
    "\n",
    "def f_HA(HA):\n",
    "    return 0.333\n",
    "\n",
    "def f_O(O):\n",
    "    return 0.5\n",
    "\n",
    "# P(RE|HE,HA,O)\n",
    "def f_RE(HE,HA,O,RE):\n",
    "    return robot_expression[(HE,HA,O,RE)]\n",
    "\n",
    "if __name__=='__main__':\n",
    "    g = build_bbn(\n",
    "        f_HE,\n",
    "        f_HA,\n",
    "        f_O,\n",
    "        f_RE,\n",
    "        domains=dict(\n",
    "            HE = ('H','S','N')\n",
    "            HA = ('R','O','A')\n",
    "            O = ('S','B')\n",
    "            RE = ('H','S','N')\n",
    "        )\n",
    "    )\n"
   ]
  },
  {
   "cell_type": "code",
   "execution_count": 7,
   "metadata": {},
   "outputs": [
    {
     "name": "stdout",
     "output_type": "stream",
     "text": [
      "0.8\n"
     ]
    }
   ],
   "source": []
  },
  {
   "cell_type": "code",
   "execution_count": null,
   "metadata": {},
   "outputs": [],
   "source": []
  }
 ],
 "metadata": {
  "kernelspec": {
   "display_name": "Python 2",
   "language": "python",
   "name": "python2"
  },
  "language_info": {
   "codemirror_mode": {
    "name": "ipython",
    "version": 3
   },
   "file_extension": ".py",
   "mimetype": "text/x-python",
   "name": "python",
   "nbconvert_exporter": "python",
   "pygments_lexer": "ipython3",
   "version": "3.9.7"
  }
 },
 "nbformat": 4,
 "nbformat_minor": 4
}
